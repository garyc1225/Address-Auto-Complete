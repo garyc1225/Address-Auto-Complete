{
 "cells": [
  {
   "cell_type": "markdown",
   "metadata": {},
   "source": [
    "# Address-AutoComplete-Bot\n",
    "\n",
    "This notebook shows the end-to-end process of training and building a Address Autocomplete Bot using Global Attention Mechanism."
   ]
  },
  {
   "cell_type": "markdown",
   "metadata": {},
   "source": [
    "## Table of Contents\n",
    "\n",
    "- [1 - Idea](#1)\n",
    "- [2 - Review](#2)\n",
    "- [3 - Address Datasets](#3)\n",
    "    - [3.1 - Training Data Generation](#3-1)\n",
    "    - [3.2 - Data Processing](#3-2)\n",
    "- [4 - Encoder, Attention, and Decoder](#4)\n",
    "    - [4.1 - Encoder](#4-1)\n",
    "    - [4.2 - Attention](#4-2)\n",
    "    - [4.3 - Decoder](#4-3)\n",
    "    - [4.4 - Shape Check](#4-4)\n",
    "- [5 - Training](#5)\n",
    "- [6 - Inference](#6)"
   ]
  },
  {
   "cell_type": "markdown",
   "metadata": {},
   "source": [
    "<a id=\"1\"></a>\n",
    "## 1 - Idea"
   ]
  },
  {
   "cell_type": "markdown",
   "metadata": {},
   "source": [
    "Address is one of the most important pieces of data to get right for all transactions in life. When we input the correct address into a website, we ensure that the products are delivered to the right address, improve customer satisfaction, and reduce the risk of fraud. My wife and I buy hundreds of items across dozens of websites, and it's hard to imagine what would happen if the address was incorrect. Luckily, Google has services like the [Maps API](https://developers.google.com/maps/documentation/javascript), which eliminates these concerns. These map APIs are widely available, lightweight, and easy to deploy. They can be used to build dynamic and interactive maps for web applications using geospatial data, ensuring that customers never enter the wrong address again. For example, the [Place Autocomplete Address Form](https://developers.google.com/maps/documentation/javascript/examples/places-autocomplete-addressform) helps to accurately supply address details. The Place Autocomplete Address Form sample captures selected address components from the Google Places database, and uses them to populate an address form.\n",
    "\n",
    "Recently, I completed the [Deep Learning Specialization](https://www.deeplearning.ai/courses/deep-learning-specialization/) course from Andrew NG. In this class, I learned about the attention mechanism. The attention mechanism is a powerful neural network technique that has revolutionized the field of Natural Language Processing (NLP). It allows models to focus on specific parts of their input data, which is essential for learning long-range dependencies and understanding the context of complex sequences. Attention mechanisms have been shown to significantly improve the performance of Large Language Models (LLMs) on a variety of tasks, including machine translation, text summarization, and question answering.\n",
    "\n",
    "One question I have in mind is whether it is possible to train an LLM to predict accurate and complete addresses without requiring any geospatial knowledge. While it is known that LLMs are capable of learning complex and non-linear relationships between features and predictions on tabular data, it is unclear whether they can perform well on address correction (i.e., text generation) without knowing the meaning of individual address components such as street names, cities, and states.\n",
    "\n",
    "This project aims to develop an address autocomplete bot that uses the attention mechanism to autocomplete addresses without requiring any geospatial knowledge. The bot will be trained on a large dataset of correctly formatted addresses, and will use the attention mechanism to learn the relationships between different address components. When given an inaccurate address, the bot will be able to detect the errors and autocomplete the address by filling in missing components or correcting incorrect components.\n",
    "\n",
    "*References*\n",
    "  - [Effective Approaches to Attention-based Neural Machine Translation (Luong et al., 2015)](https://arxiv.org/abs/1508.04025v5)\n",
    "  - [Neural Machine Translation with attention](https://www.tensorflow.org/text/tutorials/nmt_with_attention)"
   ]
  },
  {
   "cell_type": "markdown",
   "metadata": {},
   "source": [
    "<a id=\"2\"></a>\n",
    "## 2 - Review"
   ]
  },
  {
   "cell_type": "markdown",
   "metadata": {},
   "source": [
    "Deep learning methods are being used in solving NLP quesitons since the early 2000s. Deep learning methods are a type of neural network that can learn complex relationships in data. In 2010s, we witness the rise of large language models (LLMs). LLMs are trained on massive datasets of text and code, which allows them to learn the statistical relationships between words and phrases at an unprecedented scale. In the paragraph below, I will summarize the development of deep learning methods on NLP, from Recurrent Neural Network (RNN), Long Short-Term Memory (LSTM), to the recent developed Attention Mechanism. \n",
    "\n",
    "- **Recurrent Neural Networks (RNNs)**\n",
    "\n",
    "RNN are a type of neural network that can process sequences of data. They are the first type of neural networks that are able to learn long-term dependencies within text data, making them the first choice to solve NLP problems. However, one of the disadvantages of RNN is that they are prone to \"vanishing gradient\". The vanishing gradient problem is a major obstacle to training RNNs to learn long-term dependencies. This is because long-term dependencies require the network to remember information from many time steps ago, and the vanishing gradient problem makes it difficult for the network to do this.\n",
    "\n",
    "A language example can easily demonstrate this idea of long-term dependencies. In the sentence below, the verb `has` is influenced by the word `Dog` at the very beginning. If the word `Dog` is changed to a plural form, then the verb `has` would need to be updated to the word `have`. This long-range dependencies can extend over a very long step, as we do not know how many words (aka steps) are in between these two words.\n",
    "\n",
    "<div style=\"text-align: center;\">\n",
    "<img src=\"image/language_example.png\" width=\"500\"> <br>\n",
    "<caption><center><b>Figure 1</b>: A language example </center></caption>\n",
    "</div>\n",
    "\n",
    "A standard RNN neural network architecture is shown below. In order to learn the long-term dependencies relationship, we hope the model is able to pass on the hidden state $a^{\\langle 2 \\rangle}$ to the position of $x^{\\langle T_{x} \\rangle}$. The basic RNNs that we have seen so far are not very good at handling such long-term dependencies, mainly due to the Vanishing Gradient Problem. When the gradients traverse through multiple steps it become very small, which makes it difficult for the network to learn.\n",
    "\n",
    "<div style=\"text-align: center;\">\n",
    "<img src=\"image/rnn.png\" width=\"500\"> <br>\n",
    "<caption><center><b>Figure 2</b>: Basic RNN Structure </center></caption>\n",
    "</div>\n",
    "\n",
    "- **Long Short-Term Memory (LSTM)**\n",
    "\n",
    "LSTMs are a type of RNN that address the vanishing gradient problem. They do this by using gates to control the flow of information in the network. The figure below shows the operations of an LSTM cell.\n",
    "\n",
    "The gates in a LSTM cell are described below:\n",
    "\n",
    "- Forget Gate ($\\mathbf{\\Gamma}_{f}$): The forget gate can be used to *\"forget\"* the previous state. For example, if the subject changes from a singular word `Dog` to a plural `Dogs`, the memory of the previous state becomes outdated and should be forgotten. \n",
    "\n",
    "- Update Gate ($\\mathbf{\\Gamma}_{i}$): The update gate can be used to decide what aspects of the candidate $\\tilde{\\mathbf{c}}^{\\langle t \\rangle}$ to add to the cell state $c^{\\langle t \\rangle}$. The candidate $\\tilde{\\mathbf{c}}^{\\langle t \\rangle}$ is a tensor containing information from the current time step that **may** be stored in the current cell state $\\mathbf{c}^{\\langle t \\rangle}$. The current cell state $\\mathbf{c}^{\\langle t \\rangle}$ is the \"memory\" that gets passed onto future time steps.\n",
    "\n",
    "- Output Gate ($\\mathbf{\\Gamma}_{o}$): The output gate decides what gets sent as the prediction (output) of the time step.\n",
    "\n",
    "The LSTM unit can remember long-term dependencies because the cell state is not updated at every time step, as shown in formula 4. This allows the LSTM unit to retain information from previous time steps, even if it is not used in the current time step.\n",
    "\n",
    "<div style=\"text-align: center;\">\n",
    "<img src=\"image/lstm.png\" width=\"500\"> <br>\n",
    "<caption><center><b>Figure 3</b>: LSTM Cell </center></caption>\n",
    "</div>\n",
    "\n",
    "$$\\mathbf{\\Gamma}_f^{\\langle t \\rangle} = \\sigma(\\mathbf{W}_f[\\mathbf{a}^{\\langle t-1 \\rangle}, \\mathbf{x}^{\\langle t \\rangle}] + \\mathbf{b}_f)\\tag{1} $$\n",
    "$$\\mathbf{\\Gamma}_i^{\\langle t \\rangle} = \\sigma(\\mathbf{W}_i[a^{\\langle t-1 \\rangle}, \\mathbf{x}^{\\langle t \\rangle}] + \\mathbf{b}_i)\\tag{2} $$ \n",
    "$$\\mathbf{\\tilde{c}}^{\\langle t \\rangle} = \\tanh\\left( \\mathbf{W}_{c} [\\mathbf{a}^{\\langle t - 1 \\rangle}, \\mathbf{x}^{\\langle t \\rangle}] + \\mathbf{b}_{c} \\right) \\tag{3}$$\n",
    "$$ \\mathbf{c}^{\\langle t \\rangle} = \\mathbf{\\Gamma}_f^{\\langle t \\rangle}* \\mathbf{c}^{\\langle t-1 \\rangle} + \\mathbf{\\Gamma}_{i}^{\\langle t \\rangle} *\\mathbf{\\tilde{c}}^{\\langle t \\rangle} \\tag{4} $$\n",
    "$$ \\mathbf{\\Gamma}_o^{\\langle t \\rangle}=  \\sigma(\\mathbf{W}_o[\\mathbf{a}^{\\langle t-1 \\rangle}, \\mathbf{x}^{\\langle t \\rangle}] + \\mathbf{b}_{o})\\tag{5}$$ \n",
    "$$ \\mathbf{a}^{\\langle t \\rangle} = \\mathbf{\\Gamma}_o^{\\langle t \\rangle} * \\tanh(\\mathbf{c}^{\\langle t \\rangle})\\tag{6} $$\n",
    "\n",
    "- **Attention Mechanism**\n",
    "\n",
    "LSTM solves the vanishing gradient problem as it allows the cell state to flow through multiple time steps. However, in the language example above, the word `has` does not rely on any other word in the sentence other than the word `dog`. Attention Mechanism was developed to allow the neural network to put more weight on certain long-range dependencies than others at each position $x^{\\langle T_{x} \\rangle}$, hence the word \"Attention\".\n",
    "\n",
    "The attention mechanism was first proposed by __[Neural Machine Translation by Jointly Learning to Align and Translate (Bahdanau et al., 2014)](https://arxiv.org/abs/1409.0473)__, and its a powerful tool that has revolutionized the field of NLP.  Attention Mechanism is commonly used with the encoder-decoders network family. The encoder encodes a source sentence into a fixed-length tensor. The attention mechanism then calcualtes a score for each word, indicating how important the word is to the current position $x^{\\langle T_{x} \\rangle}$. When the score is higher, the network will pay more attention to this word for the current output $y^{\\langle T_{x} \\rangle}$. When the score is lower, the network pay less attention.\n",
    "\n",
    "The figure below shows what one \"attention\" step does to calculate the attention variables $\\alpha^{\\langle t, t' \\rangle}$. $s^{\\langle t-1 \\rangle}$ is the one-step prior hidden state from the post-attention decoder, and $a^{\\langle t' \\rangle}$ is the hidden state from the pre-attention encoder. $s^{\\langle t-1 \\rangle}$ and $a^{\\langle t \\rangle}$ are fed into a simple neural network with a dense layer to learn and compute the output $e^{\\langle t, t' \\rangle}$. $e^{\\langle t, t' \\rangle}$ is then used when computing the attention $\\alpha^{\\langle t, t' \\rangle}$ that $y^{\\langle t \\rangle}$ should pay to $a^{\\langle t' \\rangle}$. \n",
    "\n",
    "Finally, the $context^{ \\langle t \\rangle }$ works as a weighted average of all the attention weights. Then, the decoder's output along with the context vector is used to predict the next output $y^{\\langle T_{x+1} \\rangle}$\n",
    "\n",
    "$$context^{<t>} = \\sum_{t' = 1}^{T_x} \\alpha^{<t,t'>}a^{<t'>}\\tag{1}$$ \n",
    "\n",
    "<div style=\"text-align: center;\">\n",
    "<img src=\"image/attn_mechanism.png\" width=\"500\"> <br>\n",
    "<caption><center><b>Figure 4</b>: Attention Mechanism </center></caption>\n",
    "</div>"
   ]
  },
  {
   "cell_type": "markdown",
   "metadata": {},
   "source": [
    "<a id=\"3\"></a>\n",
    "## 3 - Datasets"
   ]
  },
  {
   "cell_type": "markdown",
   "metadata": {},
   "source": [
    "The address data is downloaded from the [New York State Geographic Information System (GIS)](https://gis.ny.gov/) website. We will only train this bot on the larger NY area addresses (Manhattan, Brooklyn, Queens, Bronx, Staten Island) for demonstration purpose and to minimize network training time.\n",
    "The address dataset download direction can be found [here](https://gis.ny.gov/system/files/documents/2023/03/how-to-create-county-filters-of-nys-address-point-data.pdf).\n",
    "\n",
    "The dataset has the below columns: \n",
    "\n",
    "|**Column Name**|**Type**|\n",
    "|------|------|\n",
    "|AddressNumber|int|\n",
    "|StreetName|string|\n",
    "|PostType|string|\n",
    "|CountyName|string|\n",
    "|CityTownName|string|\n",
    "|ZipName|string|\n",
    "|ZipCode|int|\n",
    "|State|string|"
   ]
  },
  {
   "cell_type": "code",
   "execution_count": 1,
   "metadata": {},
   "outputs": [
    {
     "name": "stderr",
     "output_type": "stream",
     "text": [
      "c:\\Users\\gkchen\\Anaconda3\\lib\\site-packages\\scipy\\__init__.py:146: UserWarning: A NumPy version >=1.16.5 and <1.23.0 is required for this version of SciPy (detected version 1.23.1\n",
      "  warnings.warn(f\"A NumPy version >={np_minversion} and <{np_maxversion}\"\n"
     ]
    }
   ],
   "source": [
    "import pandas as pd\n",
    "import numpy as np\n",
    "import utils\n",
    "import seaborn as sns\n",
    "import tensorflow as tf\n",
    "import tensorflow_text as tf_text"
   ]
  },
  {
   "cell_type": "code",
   "execution_count": 6,
   "metadata": {},
   "outputs": [
    {
     "name": "stdout",
     "output_type": "stream",
     "text": [
      "Dataset shape: (746396, 8)\n"
     ]
    },
    {
     "data": {
      "text/html": [
       "<div>\n",
       "<style scoped>\n",
       "    .dataframe tbody tr th:only-of-type {\n",
       "        vertical-align: middle;\n",
       "    }\n",
       "\n",
       "    .dataframe tbody tr th {\n",
       "        vertical-align: top;\n",
       "    }\n",
       "\n",
       "    .dataframe thead th {\n",
       "        text-align: right;\n",
       "    }\n",
       "</style>\n",
       "<table border=\"1\" class=\"dataframe\">\n",
       "  <thead>\n",
       "    <tr style=\"text-align: right;\">\n",
       "      <th></th>\n",
       "      <th>AddressNumber</th>\n",
       "      <th>StreetName</th>\n",
       "      <th>PostType</th>\n",
       "      <th>CountyName</th>\n",
       "      <th>CityTownName</th>\n",
       "      <th>ZipName</th>\n",
       "      <th>ZipCode</th>\n",
       "      <th>State</th>\n",
       "    </tr>\n",
       "  </thead>\n",
       "  <tbody>\n",
       "    <tr>\n",
       "      <th>5310541</th>\n",
       "      <td>64</td>\n",
       "      <td>50</td>\n",
       "      <td>Ave</td>\n",
       "      <td>Queens</td>\n",
       "      <td>New York</td>\n",
       "      <td>Corona</td>\n",
       "      <td>11368</td>\n",
       "      <td>NY</td>\n",
       "    </tr>\n",
       "    <tr>\n",
       "      <th>4351709</th>\n",
       "      <td>9</td>\n",
       "      <td>125</td>\n",
       "      <td>St</td>\n",
       "      <td>Queens</td>\n",
       "      <td>New York</td>\n",
       "      <td>South Richmond Hill</td>\n",
       "      <td>11419</td>\n",
       "      <td>NY</td>\n",
       "    </tr>\n",
       "    <tr>\n",
       "      <th>5410919</th>\n",
       "      <td>321</td>\n",
       "      <td>34</td>\n",
       "      <td>St</td>\n",
       "      <td>New York</td>\n",
       "      <td>New York</td>\n",
       "      <td>New York</td>\n",
       "      <td>10016</td>\n",
       "      <td>NY</td>\n",
       "    </tr>\n",
       "    <tr>\n",
       "      <th>5399431</th>\n",
       "      <td>430</td>\n",
       "      <td>84</td>\n",
       "      <td>St</td>\n",
       "      <td>New York</td>\n",
       "      <td>New York</td>\n",
       "      <td>New York</td>\n",
       "      <td>10028</td>\n",
       "      <td>NY</td>\n",
       "    </tr>\n",
       "    <tr>\n",
       "      <th>5507966</th>\n",
       "      <td>742</td>\n",
       "      <td>43</td>\n",
       "      <td>St</td>\n",
       "      <td>Kings</td>\n",
       "      <td>New York</td>\n",
       "      <td>Brooklyn</td>\n",
       "      <td>11203</td>\n",
       "      <td>NY</td>\n",
       "    </tr>\n",
       "  </tbody>\n",
       "</table>\n",
       "</div>"
      ],
      "text/plain": [
       "         AddressNumber StreetName PostType CountyName CityTownName  \\\n",
       "5310541             64         50      Ave     Queens     New York   \n",
       "4351709              9        125       St     Queens     New York   \n",
       "5410919            321         34       St   New York     New York   \n",
       "5399431            430         84       St   New York     New York   \n",
       "5507966            742         43       St      Kings     New York   \n",
       "\n",
       "                     ZipName  ZipCode State  \n",
       "5310541               Corona    11368    NY  \n",
       "4351709  South Richmond Hill    11419    NY  \n",
       "5410919             New York    10016    NY  \n",
       "5399431             New York    10028    NY  \n",
       "5507966             Brooklyn    11203    NY  "
      ]
     },
     "execution_count": 6,
     "metadata": {},
     "output_type": "execute_result"
    }
   ],
   "source": [
    "ny_address = pd.read_parquet('Datasets/NYS_clean.parquet.gz', engine='pyarrow')\n",
    "print(f'Dataset shape: {ny_address.shape}')\n",
    "ny_address.sample(5)"
   ]
  },
  {
   "cell_type": "code",
   "execution_count": 9,
   "metadata": {},
   "outputs": [
    {
     "data": {
      "text/plain": [
       "Kings          0.386011\n",
       "Queens         0.234193\n",
       "Richmond       0.166930\n",
       "Bronx          0.136503\n",
       "New York       0.076250\n",
       "Nassau         0.000074\n",
       "Westchester    0.000039\n",
       "Name: CountyName, dtype: float64"
      ]
     },
     "execution_count": 9,
     "metadata": {},
     "output_type": "execute_result"
    }
   ],
   "source": [
    "# Checking the County Distribution: \n",
    "# 62% of the addresses are in Kings (Brooklyn borough) and Quees (Queens borough) county.\n",
    "ny_address['CountyName'].value_counts(normalize=True)"
   ]
  },
  {
   "cell_type": "code",
   "execution_count": 11,
   "metadata": {},
   "outputs": [
    {
     "name": "stdout",
     "output_type": "stream",
     "text": [
      "AddressNumber has max length of 5\n",
      "StreetName has max length of 28\n",
      "PostType has max length of 6\n",
      "CountyName has max length of 11\n",
      "CityTownName has max length of 8\n",
      "ZipName has max length of 19\n",
      "ZipCode has max length of 5\n",
      "State has max length of 2\n"
     ]
    }
   ],
   "source": [
    "# Checking the length for each address component. \n",
    "# Max word length is an important parameter for the word embedding that will happen later\n",
    "for col_i in ny_address.columns:\n",
    "    print(f'{col_i} has max length of {ny_address[col_i].astype(str).apply(len).max()}')"
   ]
  },
  {
   "cell_type": "markdown",
   "metadata": {},
   "source": [
    "<a id=\"3-1\"></a>\n",
    "## 3-1 - Training Data Generation"
   ]
  },
  {
   "cell_type": "code",
   "execution_count": 2,
   "metadata": {},
   "outputs": [],
   "source": [
    "import utils\n",
    "from importlib import reload\n",
    "utils = reload(utils)"
   ]
  },
  {
   "cell_type": "markdown",
   "metadata": {},
   "source": [
    "To train the neural network to output the correct complete address, we need to teach it the relationships between different address components. We do this by generating training data by \"masking\" certain address components. The `context_raw` dataframe contains the \"masked\" addresses, and the `target_raw` dataframe contains the complete addresses. We sample with replacement so that one address can be used for multiple training data points.\n",
    "\n",
    "The figure below illustrates the training data generation process. For example, if we mask one complete address three different ways, we will generate three training data points.\n",
    "\n",
    "One limitation of this method is that not all training data points are equally helpful to the model. This is due to the hierarchical structure of address components. For example, training data point No. 3 will be helpful to the model because we want it to learn to output the most likely zip code for `321 34th St, New York, New York`, which is `10016`. However, training data point No. 1 will not be as helpful, because many addresses can have the zip code `10016`. We expect the model cost function to reduce more with training data point No. 3 than with training data point No. 1.\n",
    "\n",
    "<div style=\"text-align: center;\">\n",
    "<img src=\"image/mask_generate.PNG\" width=\"800\"> <br>\n",
    "<caption><center><b>Figure 5</b>: Training Data Generation Process </center></caption>\n",
    "</div>"
   ]
  },
  {
   "cell_type": "code",
   "execution_count": 14,
   "metadata": {},
   "outputs": [
    {
     "name": "stdout",
     "output_type": "stream",
     "text": [
      "Context shape: (2000000,)\n",
      "Target shape: (2000000,)\n"
     ]
    }
   ],
   "source": [
    "context_raw,target_raw = utils.create_label_target('Datasets/NYS_clean.parquet.gz')\n",
    "print(f'Context shape: {context_raw.shape}')\n",
    "print(f'Target shape: {target_raw.shape}')"
   ]
  },
  {
   "cell_type": "code",
   "execution_count": 18,
   "metadata": {},
   "outputs": [
    {
     "name": "stdout",
     "output_type": "stream",
     "text": [
      "Masked Address: 4015 Church Kings NY 11203\n",
      "Complete Address: 4015 Church Ave Brooklyn Kings NY 11203\n"
     ]
    }
   ],
   "source": [
    "random_numbers = np.random.choice(len(context_raw), 1)[0]\n",
    "print(f'Masked Address: {context_raw[random_numbers]}')\n",
    "print(f'Complete Address: {target_raw[random_numbers]}')\n"
   ]
  },
  {
   "cell_type": "code",
   "execution_count": 3,
   "metadata": {},
   "outputs": [],
   "source": [
    "# np.save(\"Datasets/context_raw.npy\", context_raw)\n",
    "# np.save(\"Datasets/target_raw.npy\", target_raw)\n",
    "\n",
    "context_raw = np.load(\"Datasets/context_raw.npy\")\n",
    "target_raw = np.load(\"Datasets/target_raw.npy\")"
   ]
  },
  {
   "cell_type": "markdown",
   "metadata": {},
   "source": [
    "<a id=\"3-2\"></a>\n",
    "## 3-2 - Data Processing"
   ]
  },
  {
   "cell_type": "markdown",
   "metadata": {},
   "source": [
    "**Step 1**: Split the dataset into 80% `train_raw` and 20% `val_raw`. Create a `tf.data.Dataset` for these strings. `tf.data.Dataset` is designed to be efficient, both in terms of memory usage and runtime performance. It can automatically parallelize data loading and processing, and it can also be used to cache data in memory or on disk to improve performance."
   ]
  },
  {
   "cell_type": "code",
   "execution_count": 4,
   "metadata": {},
   "outputs": [],
   "source": [
    "import tensorflow as tf\n",
    "import tensorflow_text as tf_text\n",
    "\n",
    "BUFFER_SIZE = len(context_raw)\n",
    "BATCH_SIZE = 64\n",
    "\n",
    "is_train = np.random.uniform(size=(len(target_raw),)) < 0.8\n",
    "\n",
    "train_raw = (\n",
    "    tf.data.Dataset\n",
    "    .from_tensor_slices((context_raw[is_train], target_raw[is_train]))\n",
    "    .shuffle(BUFFER_SIZE)\n",
    "    .batch(BATCH_SIZE))\n",
    "val_raw = (\n",
    "    tf.data.Dataset\n",
    "    .from_tensor_slices((context_raw[~is_train], target_raw[~is_train]))\n",
    "    .shuffle(BUFFER_SIZE)\n",
    "    .batch(BATCH_SIZE))"
   ]
  },
  {
   "cell_type": "markdown",
   "metadata": {},
   "source": [
    "**Step 2**: We can use the `tf.keras.layers.TextVectorization` to apply preprocessing to the text, and maps text features to integer token sequences. The text standardization is handled by the `utils.tf_lower_and_split_punct`."
   ]
  },
  {
   "cell_type": "code",
   "execution_count": 5,
   "metadata": {},
   "outputs": [],
   "source": [
    "# This parameters defines the saximum size of the vocabulary for this layer\n",
    "max_vocab_size = 5000\n",
    "\n",
    "context_text_processor = tf.keras.layers.TextVectorization(\n",
    "    standardize=utils.tf_lower_and_split_punct,\n",
    "    max_tokens=max_vocab_size,\n",
    "    ragged=True)\n",
    "\n",
    "# The adapt method reads one epoch of the training data, and works a lot like Model.fit. \n",
    "# This method initializes the layer based on the data.\n",
    "context_text_processor.adapt(train_raw.map(lambda context, target: context))"
   ]
  },
  {
   "cell_type": "code",
   "execution_count": 6,
   "metadata": {},
   "outputs": [],
   "source": [
    "target_text_processor = tf.keras.layers.TextVectorization(\n",
    "    standardize=utils.tf_lower_and_split_punct,\n",
    "    max_tokens=max_vocab_size,\n",
    "    ragged=True)\n",
    "\n",
    "target_text_processor.adapt(train_raw.map(lambda context, target: target))"
   ]
  },
  {
   "cell_type": "code",
   "execution_count": 31,
   "metadata": {},
   "outputs": [
    {
     "name": "stdout",
     "output_type": "stream",
     "text": [
      "Address To token: [  2 141 218   5   7   6   4 128   3]\n",
      "Token back to Address\n",
      "[START] 68 96 st brooklyn kings ny 11212 [END]\n"
     ]
    }
   ],
   "source": [
    "# The context_text_processor convert a address into a token sequences\n",
    "# The [START] and [END] represents the Start of String token and End of String token. These tokens will tell the model when to start and stop the prediction.\n",
    "example_text = tf.constant('68 96 St Brooklyn Kings NY 11212')\n",
    "example_tokens = context_text_processor(example_text)\n",
    "print(f'Address To token: {example_tokens}')\n",
    "\n",
    "context_vocab = np.array(context_text_processor.get_vocabulary())\n",
    "tokens = context_vocab[example_tokens.numpy()]\n",
    "print('Token back to Address')\n",
    "print(' '.join(tokens))\n"
   ]
  },
  {
   "cell_type": "markdown",
   "metadata": {},
   "source": [
    "**Step 3**: Convert the `tf.data.Dataset` to 0-padded tensors of token. The `target_in` and `target_out` is shifted by one step relative to each other. "
   ]
  },
  {
   "cell_type": "code",
   "execution_count": 7,
   "metadata": {},
   "outputs": [],
   "source": [
    "def process_text(context, target):\n",
    "    context = context_text_processor(context).to_tensor()\n",
    "    target = target_text_processor(target)\n",
    "    targ_in = target[:,:-1].to_tensor()\n",
    "    targ_out = target[:,1:].to_tensor()\n",
    "    return (context, targ_in), targ_out\n",
    "\n",
    "train_ds = train_raw.map(process_text, tf.data.AUTOTUNE)\n",
    "val_ds = val_raw.map(process_text, tf.data.AUTOTUNE)"
   ]
  },
  {
   "cell_type": "code",
   "execution_count": 8,
   "metadata": {},
   "outputs": [],
   "source": [
    "tf.data.Dataset.save(train_ds, \"Datasets/train_ds.tfds\")\n",
    "tf.data.Dataset.save(val_ds, \"Datasets/val_ds.tfds\")"
   ]
  },
  {
   "cell_type": "markdown",
   "metadata": {},
   "source": [
    "<a id=\"4\"></a>\n",
    "# 4 - Encoder, Attention, and Decoder"
   ]
  },
  {
   "cell_type": "markdown",
   "metadata": {},
   "source": [
    "<a id=\"4-1\"></a>\n",
    "## 4-1 - Encoder"
   ]
  },
  {
   "cell_type": "markdown",
   "metadata": {},
   "source": [
    "The goal of the encoder is to process the context sequence $x^{\\langle T_{x} \\rangle}$ (in our case, the address string) into a sequence of vectors that the decoder can use to predict the next output $y^{\\langle T_{x+1} \\rangle}$.\n",
    "<br>\n",
    "<br>\n",
    "The details of the encoder network is listed below:\n",
    "\n",
    "1. `tf.keras.layers.Embedding`: An embedding layer that convert postive integers (i.e., tokens) into dense vectors\n",
    "\n",
    "2. `tf.keras.layers.Bidirectional`: A bi-directional wrapper for RNNs. Here we use a GRU unit with 256 neurons. The reason we choose a bi-directional GRU is because the hidden state should flow both ways in the encoder. For example, in the exmample address of `4015 Church Ave Brooklyn Kings NY 11203`, the borough component `Brooklyn` should have the hidden state flow from the prior component `4015 Church Ave` and also from the post component `Kings NY 11203`.\n"
   ]
  },
  {
   "cell_type": "code",
   "execution_count": 9,
   "metadata": {},
   "outputs": [],
   "source": [
    "UNITS = 256\n",
    "\n",
    "class GRU_Encoder(tf.keras.layers.Layer):\n",
    "    \"\"\"An encoder model that encodes input sequences into hidden states.\"\"\"\n",
    "\n",
    "    def __init__(self, text_processor, units=UNITS):\n",
    "        \"\"\"Initializes the encoder.\n",
    "\n",
    "        Args:\n",
    "            text_processor: A text processor that can be used to convert text sequences to tensors and vice versa.\n",
    "            units: The dimension of the hidden states.\n",
    "        \"\"\"\n",
    "\n",
    "        super(GRU_Encoder, self).__init__()\n",
    "\n",
    "        self.text_processor = text_processor\n",
    "        self.vocab_size = text_processor.vocabulary_size()\n",
    "        self.units = units\n",
    "\n",
    "        self.embedding = tf.keras.layers.Embedding(self.vocab_size, units, mask_zero=True)\n",
    "\n",
    "        self.rnn = tf.keras.layers.Bidirectional(\n",
    "            merge_mode='sum',\n",
    "            layer=tf.keras.layers.GRU(units, return_sequences=True, recurrent_initializer='glorot_uniform'))\n",
    "\n",
    "    def call(self, x):\n",
    "        \"\"\"Encodes the input sequences.\n",
    "\n",
    "        Args:\n",
    "            x: A tensor of shape `[batch_size, max_sequence_length]`.\n",
    "\n",
    "        Returns:\n",
    "            A tensor of shape `[batch_size, max_sequence_length, units]`.\n",
    "        \"\"\"\n",
    "\n",
    "        # Check the shape of the input tensor.\n",
    "        shape_checker = utils.ShapeChecker()\n",
    "        shape_checker(x, 'batch s')\n",
    "\n",
    "        # Embed the input sequences.\n",
    "        x = self.embedding(x)\n",
    "\n",
    "        # Check the shape of the embedded input sequences.\n",
    "        shape_checker(x, 'batch s units')\n",
    "\n",
    "        # Encode the input sequences using the bidirectional LSTM layer.\n",
    "        x = self.rnn(x)\n",
    "\n",
    "        # Check the shape of the encoded input sequences.\n",
    "        shape_checker(x, 'batch s units')\n",
    "\n",
    "        return x\n",
    "\n",
    "    def convert_input(self, texts):\n",
    "        \"\"\"Converts the input texts to a tensor of hidden states.\n",
    "\n",
    "        Args:\n",
    "            texts: A list of strings.\n",
    "\n",
    "        Returns:\n",
    "            A tensor of shape `[batch_size, max_sequence_length, units]`.\n",
    "        \"\"\"\n",
    "\n",
    "        # Convert the input texts to a tensor of text sequences.\n",
    "        texts = tf.convert_to_tensor(texts)\n",
    "\n",
    "        # If the input tensor is a scalar, convert it to a vector.\n",
    "        if len(texts.shape) == 0:\n",
    "            texts = tf.convert_to_tensor(texts)[tf.newaxis]\n",
    "\n",
    "        # Convert the text sequences to a tensor of hidden states.\n",
    "        context = self.text_processor(texts).to_tensor()\n",
    "        context = self(context)\n",
    "\n",
    "        return context"
   ]
  },
  {
   "cell_type": "markdown",
   "metadata": {},
   "source": [
    "<a id=\"4-2\"></a>\n",
    "## 4-2 - Attention"
   ]
  },
  {
   "cell_type": "markdown",
   "metadata": {},
   "source": [
    "The attention layer allows the decoder to access the information extracted by the encoder. It computes a `context vector` from the entire context sequence, and adds that to the decoder's output.\n",
    "<br>\n",
    "<br>\n",
    "The details of the attention layer is listed below:\n",
    "\n",
    "1. `tf.keras.layers.MultiHeadAttention`: A single head attention layer (num_heads = 1). The `key_dim` is set to 256. This means the attention head for the `query` and `key` will have dimension = 256.\n",
    "\n",
    "    The components of the attention layer is specified here:\n",
    "      * `Batch`: $b$. Number of records in each batch  \n",
    "      * `t`: $t$. Input sequence dimension\n",
    "      * `s`: $s$. Context sequence dimension\n",
    "      * `heads`: $h$. Number of attention heads\n",
    "      * `key_dim`: $key{\\_}dim$. Number of hidden units from the GRU layer\n",
    "\n",
    "    The matrices dimension for each attention component:\n",
    "      * `Query`:  ($b$,$t$,$key{\\_}dim$)\n",
    "      * `Value`:  ($b$,$s$,$key{\\_}dim$)\n",
    "      * `Attention Weights`: ($b$, $t$, $s$)\n",
    "\n",
    "2. `tf.keras.layers.Add`: Concatting the attention output along with the input `X`\n",
    "\n",
    "3. `tf.keras.layers.LayerNormalization`: Normalize the activations of the previous layer for each given example in a batch independently, not across examples."
   ]
  },
  {
   "cell_type": "code",
   "execution_count": 10,
   "metadata": {},
   "outputs": [],
   "source": [
    "class CrossAttention(tf.keras.layers.Layer):\n",
    "    \"\"\"A cross-attention layer that attends to a context sequence to compute a new representation of an input sequence.\n",
    "\n",
    "    Args:\n",
    "        units: The dimension of the hidden states.\n",
    "        kwargs: Additional arguments to pass to the MultiHeadAttention layer.\n",
    "    \"\"\"\n",
    "\n",
    "    def __init__(self, units, **kwargs):\n",
    "        super().__init__()\n",
    "\n",
    "        # Create a MultiHeadAttention layer.\n",
    "        self.mha = tf.keras.layers.MultiHeadAttention(key_dim=units, num_heads=1, **kwargs)\n",
    "\n",
    "        # Create a LayerNormalization layer.\n",
    "        self.layernorm = tf.keras.layers.LayerNormalization()\n",
    "\n",
    "        # Create an Add layer.\n",
    "        self.add = tf.keras.layers.Add()\n",
    "\n",
    "    def call(self, x, context):\n",
    "        \"\"\"Computes the cross-attention output.\n",
    "\n",
    "        Args:\n",
    "            x: A tensor of shape `[batch_size, input_sequence_length, units]`.\n",
    "            context: A tensor of shape `[batch_size, context_sequence_length, units]`.\n",
    "\n",
    "        Returns:\n",
    "            A tensor of shape `[batch_size, input_sequence_length, units]`.\n",
    "        \"\"\"\n",
    "\n",
    "        # Check the shape of the input tensors.\n",
    "        shape_checker = utils.ShapeChecker()\n",
    "        shape_checker(x, 'batch t units')\n",
    "        shape_checker(context, 'batch s units')\n",
    "\n",
    "        # Compute the attention output and attention scores.\n",
    "        attn_output, attn_scores = self.mha(\n",
    "            query=x,\n",
    "            value=context,\n",
    "            return_attention_scores=True)\n",
    "\n",
    "        # Check the shape of the attention output and attention scores.\n",
    "        shape_checker(x, 'batch t units')\n",
    "        shape_checker(attn_scores, 'batch heads t s')\n",
    "\n",
    "        # Reduce the attention scores to a single head.\n",
    "        attn_scores = tf.reduce_mean(attn_scores, axis=1)\n",
    "\n",
    "        # Check the shape of the reduced attention scores.\n",
    "        shape_checker(attn_scores, 'batch t s')\n",
    "\n",
    "        # Store the attention weights for later use.\n",
    "        self.last_attention_weights = attn_scores\n",
    "\n",
    "        # Compute the new representation of the input sequence.\n",
    "        x = self.add([x, attn_output])\n",
    "\n",
    "        # Normalize the new representation of the input sequence.\n",
    "        x = self.layernorm(x)\n",
    "\n",
    "        return x\n",
    "\n",
    "    def get_shape(self):\n",
    "        \"\"\"Prints the shape of the weights of the MultiHeadAttention layer.\"\"\"\n",
    "        weight_names = ['query', 'keys', 'values', 'proj']\n",
    "        for name, out in zip(weight_names,self.mha.get_weights()):\n",
    "            print(name, out.shape)"
   ]
  },
  {
   "cell_type": "markdown",
   "metadata": {},
   "source": [
    "<a id=\"4-3\"></a>\n",
    "## 4-3 - Decoder"
   ]
  },
  {
   "cell_type": "markdown",
   "metadata": {},
   "source": [
    "The goal of the decoder is to generate predictions for the next token at each location in the target sequence.\n",
    "<br>\n",
    "<br>\n",
    "\n",
    "\n",
    "The decoder takes two input:\n",
    "1. `Context`: The context vector from the encoder's output.\n",
    "2. `x`: The target sequence input.\n",
    "\n",
    "The details of the decoder is specified below:\n",
    "1. `tf.keras.layers.Embedding`: An embedding layer that converts token IDs to vectors. This layer is similar between both encoder and decoder.\n",
    "2. `tf.keras.layers.GRU`: A unidirectional GRU layer. During training, the hidden state in the decoder should only flow in one direction because the model predicts the next word at each location.\n",
    "3. `CrossAttention`: The RNN output will be the query for the attention layer.\n",
    "4. `tf.keras.layers.Dense`: A dense layer that produces the logit probability for each output token."
   ]
  },
  {
   "cell_type": "code",
   "execution_count": 11,
   "metadata": {},
   "outputs": [],
   "source": [
    "class GRU_Decoder(tf.keras.layers.Layer):\n",
    "    \"\"\"This class defines a decoder for a sequence-to-sequence model. It uses an LSTM to generate the next token in the sequence, and an attention mechanism to attend to the encoder output.\n",
    "\n",
    "    Args:\n",
    "        text_processor: A TextProcessor object.\n",
    "        units: The number of units in the LSTM layer.\n",
    "    \"\"\"\n",
    "\n",
    "    def __init__(self, text_processor, units):\n",
    "        super(GRU_Decoder, self).__init__()\n",
    "        self.text_processor = text_processor\n",
    "        self.vocab_size = text_processor.vocabulary_size()\n",
    "        self.word_to_id = tf.keras.layers.StringLookup(\n",
    "            vocabulary=text_processor.get_vocabulary(),\n",
    "            mask_token='', oov_token='[UNK]')\n",
    "        self.id_to_word = tf.keras.layers.StringLookup(\n",
    "            vocabulary=text_processor.get_vocabulary(),\n",
    "            mask_token='', oov_token='[UNK]',\n",
    "            invert=True)\n",
    "        self.start_token = self.word_to_id('[START]')\n",
    "        self.end_token = self.word_to_id('[END]')\n",
    "\n",
    "        self.units = units\n",
    "\n",
    "        self.embedding = tf.keras.layers.Embedding(self.vocab_size, units, mask_zero=True)\n",
    "        # The embedding layer converts the input tokens into dense vectors.\n",
    "\n",
    "        self.rnn = tf.keras.layers.GRU(units, return_sequences=True, return_state=True, recurrent_initializer='glorot_uniform')\n",
    "        # The GRU layer generates the next token in the sequence, based on the previous tokens and the encoder output.\n",
    "\n",
    "        self.attention = CrossAttention(units)\n",
    "        # The attention layer attends to the encoder output, and uses the attended information to generate the next token.\n",
    "\n",
    "        self.output_layer = tf.keras.layers.Dense(self.vocab_size, activation = 'sigmoid')\n",
    "        # The output layer converts the dense vectors generated by the GRU layer into probabilities over the next token.\n",
    "\n",
    "    def call(self,\n",
    "            context, x,\n",
    "            state=None,\n",
    "            return_state=False):  \n",
    "        \"\"\"\n",
    "            Decodes a sequence of tokens based on the context.\n",
    "\n",
    "            Args:\n",
    "              context: A tensor of shape (batch_size, encoder_seq_len, encoder_units).\n",
    "              x: A tensor of shape (batch_size, target_seq_len).\n",
    "              state: A tuple of tensors, (h_state, c_state), of shape (batch_size, units).\n",
    "              return_state: Whether to return the state of the decoder.\n",
    "\n",
    "            Returns:\n",
    "              A tensor of shape (batch_size, target_seq_len, target_vocab_size) containing the logits for the next token in the sequence.\n",
    "            \"\"\"\n",
    "\n",
    "        shape_checker = utils.ShapeChecker()\n",
    "        shape_checker(x, 'batch t')\n",
    "        shape_checker(context, 'batch s units')\n",
    "\n",
    "        # 1. Lookup the embeddings\n",
    "        x = self.embedding(x)\n",
    "        shape_checker(x, 'batch t units')\n",
    "\n",
    "        # 2. Process the target sequence.\n",
    "        x, state = self.rnn(x, initial_state=state)\n",
    "        shape_checker(x, 'batch t units')\n",
    "\n",
    "        # 3. Use the RNN output as the query for the attention over the context.\n",
    "        x = self.attention(x, context)\n",
    "        self.last_attention_weights = self.attention.last_attention_weights\n",
    "        shape_checker(x, 'batch t units')\n",
    "        shape_checker(self.last_attention_weights, 'batch t s')\n",
    "\n",
    "        # Step 4. Generate logit predictions for the next token.\n",
    "        logits = self.output_layer(x)\n",
    "        shape_checker(logits, 'batch t target_vocab_size')\n",
    "\n",
    "        if return_state:\n",
    "            return logits, state\n",
    "        else:\n",
    "            return logits\n",
    "\n",
    "    def get_initial_state(self, context):\n",
    "        batch_size = tf.shape(context)[0]\n",
    "        start_tokens = tf.fill([batch_size, 1], self.start_token)\n",
    "        done = tf.zeros([batch_size, 1], dtype=tf.bool)\n",
    "        embedded = self.embedding(start_tokens)\n",
    "        return start_tokens, done, self.rnn.get_initial_state(embedded)[0]\n",
    "\n",
    "    def tokens_to_text(self, tokens):\n",
    "        words = self.id_to_word(tokens)\n",
    "        result = tf.strings.reduce_join(words, axis=-1, separator=' ')\n",
    "        result = tf.strings.regex_replace(result, '^ *\\[START\\] *', '')\n",
    "        result = tf.strings.regex_replace(result, ' *\\[END\\] *$', '')\n",
    "        return result\n",
    "\n",
    "    def get_next_token(self, context, next_token, done, state, random = False):\n",
    "        logits, state = self(\n",
    "            context, next_token,\n",
    "            state = state,\n",
    "            return_state=True) \n",
    "\n",
    "        if not random:\n",
    "            next_token = tf.argmax(logits, axis=-1)\n",
    "        else:\n",
    "            logits = logits[:, -1, :]/1\n",
    "            next_token = tf.random.categorical(logits, num_samples=1)\n",
    "\n",
    "        # If a sequence produces an `end_token`, set it `done`\n",
    "        done = done | (next_token == self.end_token)\n",
    "        # Once a sequence is done it only produces 0-padding.\n",
    "        next_token = tf.where(done, tf.constant(0, dtype=tf.int64), next_token)\n",
    "\n",
    "        return next_token, done, state, logits"
   ]
  },
  {
   "cell_type": "markdown",
   "metadata": {},
   "source": [
    "<a id=\"4-4\"></a>\n",
    "## 4-4 - Shape Check"
   ]
  },
  {
   "cell_type": "markdown",
   "metadata": {},
   "source": [
    "In the Deep Learning Specialization course, I learned that it's important to check the matrix shape at every step of the network to prevent weird issues and identify problems early. In this section, we'll pass through one single training datapoint through the network and check the matrix shape for each steps in the network."
   ]
  },
  {
   "cell_type": "markdown",
   "metadata": {},
   "source": [
    "1. `train_ds`: This is a `tensorflow.python.data.ops.dataset_ops.ParallelMapDataset` dataset with the format of `((context, target_in), target_out)`. `target_out` and `target_in` are target vectors but shifted by one time step"
   ]
  },
  {
   "cell_type": "code",
   "execution_count": 12,
   "metadata": {},
   "outputs": [
    {
     "name": "stdout",
     "output_type": "stream",
     "text": [
      "Context Vector:\n",
      "tf.Tensor(\n",
      "[b'[START]' b'18' b'ramona' b'ave' b'staten' b'island' b'richmond'\n",
      " b'[END]' b''], shape=(9,), dtype=string)\n",
      "\n",
      "\n",
      "Target-In Vector:\n",
      "tf.Tensor(\n",
      "[b'[START]' b'18' b'ramona' b'ave' b'staten' b'island' b'richmond' b'ny'\n",
      " b'10312' b''], shape=(10,), dtype=string)\n",
      "\n",
      "\n",
      "Target-Out Vector:\n",
      "tf.Tensor(\n",
      "[b'18' b'ramona' b'ave' b'staten' b'island' b'richmond' b'ny' b'10312'\n",
      " b'[END]' b''], shape=(10,), dtype=string)\n"
     ]
    }
   ],
   "source": [
    "# Check one training sample\n",
    "context_layer = tf.keras.layers.StringLookup(vocabulary=context_text_processor.get_vocabulary(),mask_token='', oov_token='[UNK]',invert=True)\n",
    "target_layer = tf.keras.layers.StringLookup(vocabulary=target_text_processor.get_vocabulary(),mask_token='', oov_token='[UNK]',invert=True)\n",
    "\n",
    "for (ex_context_tok, ex_tar_in), ex_tar_out in train_ds.take(1):\n",
    "  print('Context Vector:')\n",
    "  print(context_layer(ex_context_tok[0, :10]))\n",
    "  print('\\n')\n",
    "  print('Target-In Vector:')\n",
    "  print(target_layer(ex_tar_in[0, :10]))\n",
    "  print('\\n')\n",
    "  print('Target-Out Vector:')\n",
    "  print(target_layer(ex_tar_out[0, :10]))"
   ]
  },
  {
   "cell_type": "markdown",
   "metadata": {},
   "source": [
    "2. `Encoder`: The encoder has an input dimension of ($b$, $s$), and an output dimension of ($b$, $s$, $dim$)."
   ]
  },
  {
   "cell_type": "code",
   "execution_count": 13,
   "metadata": {},
   "outputs": [
    {
     "name": "stdout",
     "output_type": "stream",
     "text": [
      "Context tokens, shape (batch, s): (64, 9)\n",
      "Encoder output, shape (batch, s, units): (64, 9, 256)\n"
     ]
    }
   ],
   "source": [
    "encoder = GRU_Encoder(context_text_processor, UNITS)\n",
    "ex_context = encoder(ex_context_tok)\n",
    "\n",
    "print(f'Context tokens, shape (batch, s): {ex_context_tok.shape}')\n",
    "print(f'Encoder output, shape (batch, s, units): {ex_context.shape}')"
   ]
  },
  {
   "cell_type": "markdown",
   "metadata": {},
   "source": [
    "3. `Attention Layer`: The context sequence from the encoder has a dimension of ($b$, $s$, $dim$). The final output of the attention layer has the same dimension as the target sequence ($b$, $t$, $dim$)."
   ]
  },
  {
   "cell_type": "code",
   "execution_count": 14,
   "metadata": {},
   "outputs": [
    {
     "name": "stdout",
     "output_type": "stream",
     "text": [
      "Context sequence, shape (batch, s, units): (64, 9, 256)\n",
      "Target sequence, shape (batch, t, units): (64, 10, 256)\n",
      "Attention result, shape (batch, t, units): (64, 10, 256)\n",
      "Attention weights, shape (batch, t, s):    (64, 10, 9)\n"
     ]
    }
   ],
   "source": [
    "attention_layer = CrossAttention(UNITS)\n",
    "\n",
    "# Attend to the encoded tokens\n",
    "embed = tf.keras.layers.Embedding(target_text_processor.vocabulary_size(), output_dim=UNITS, mask_zero=True)\n",
    "ex_tar_embed = embed(ex_tar_in)\n",
    "\n",
    "result = attention_layer(ex_tar_embed, ex_context)\n",
    "\n",
    "print(f'Context sequence, shape (batch, s, units): {ex_context.shape}')\n",
    "print(f'Target sequence, shape (batch, t, units): {ex_tar_embed.shape}')\n",
    "print(f'Attention result, shape (batch, t, units): {result.shape}')\n",
    "print(f'Attention weights, shape (batch, t, s):    {attention_layer.last_attention_weights.shape}')"
   ]
  },
  {
   "cell_type": "markdown",
   "metadata": {},
   "source": [
    "4. `Decoder`: The output of the decoder will have the dimension of ($b$, $t$, $vocab_size$). Given the context and target tokens, for each target token it predicts the next target token."
   ]
  },
  {
   "cell_type": "code",
   "execution_count": 15,
   "metadata": {},
   "outputs": [
    {
     "name": "stdout",
     "output_type": "stream",
     "text": [
      "encoder output shape: (batch, s, units) (64, 9, 256)\n",
      "input target tokens shape: (batch, t) (64, 10)\n",
      "logits shape shape: (batch, target_vocabulary_size) (64, 10, 5000)\n"
     ]
    }
   ],
   "source": [
    "decoder = GRU_Decoder(target_text_processor, UNITS)\n",
    "\n",
    "logits = decoder(ex_context, ex_tar_in)\n",
    "\n",
    "print(f'encoder output shape: (batch, s, units) {ex_context.shape}')\n",
    "print(f'input target tokens shape: (batch, t) {ex_tar_in.shape}')\n",
    "print(f'logits shape shape: (batch, target_vocabulary_size) {logits.shape}')"
   ]
  },
  {
   "cell_type": "markdown",
   "metadata": {},
   "source": [
    "<a id=\"5\"></a>\n",
    "# 5 - Training"
   ]
  },
  {
   "cell_type": "code",
   "execution_count": 16,
   "metadata": {},
   "outputs": [],
   "source": [
    "class Addressor(tf.keras.Model):\n",
    "    @classmethod\n",
    "    def add_method(cls, fun):\n",
    "        setattr(cls, fun.__name__, fun)\n",
    "        return fun\n",
    "\n",
    "    def __init__(self, units,\n",
    "                context_text_processor,\n",
    "                target_text_processor):\n",
    "        super().__init__()\n",
    "        # Build the encoder and decoder\n",
    "        encoder = GRU_Encoder(context_text_processor, units)\n",
    "        decoder = GRU_Decoder(target_text_processor, units)\n",
    "\n",
    "        self.encoder = encoder\n",
    "        self.decoder = decoder\n",
    "\n",
    "    def call(self, inputs):\n",
    "        context, x = inputs\n",
    "        context = self.encoder(context)\n",
    "        logits = self.decoder(context, x)\n",
    "\n",
    "        return logits"
   ]
  },
  {
   "cell_type": "code",
   "execution_count": 17,
   "metadata": {},
   "outputs": [],
   "source": [
    "def masked_loss(y_true, y_pred):\n",
    "    # Calculate the loss for each item in the batch.\n",
    "    loss_fn = tf.keras.losses.SparseCategoricalCrossentropy(\n",
    "        from_logits=True, reduction='none')\n",
    "    loss = loss_fn(y_true, y_pred)\n",
    "\n",
    "    # Mask off the losses on padding.\n",
    "    mask = tf.cast(y_true != 0, loss.dtype)\n",
    "    loss *= mask\n",
    "\n",
    "    # Return the total.\n",
    "    return tf.reduce_sum(loss)/tf.reduce_sum(mask)"
   ]
  },
  {
   "cell_type": "code",
   "execution_count": 18,
   "metadata": {},
   "outputs": [],
   "source": [
    "def masked_acc(y_true, y_pred):\n",
    "    # Calculate the loss for each item in the batch.\n",
    "    y_pred = tf.argmax(y_pred, axis=-1)\n",
    "    y_pred = tf.cast(y_pred, y_true.dtype)\n",
    "\n",
    "    match = tf.cast(y_true == y_pred, tf.float32)\n",
    "    mask = tf.cast(y_true != 0, tf.float32)\n",
    "\n",
    "    return tf.reduce_sum(match)/tf.reduce_sum(mask)"
   ]
  },
  {
   "cell_type": "code",
   "execution_count": 19,
   "metadata": {},
   "outputs": [
    {
     "name": "stdout",
     "output_type": "stream",
     "text": [
      "Model: \"addressor\"\n",
      "_________________________________________________________________\n",
      " Layer (type)                Output Shape              Param #   \n",
      "=================================================================\n",
      " gru__encoder_1 (GRU_Encoder  multiple                 2069504   \n",
      " )                                                               \n",
      "                                                                 \n",
      " gru__decoder_1 (GRU_Decoder  multiple                 3223432   \n",
      " )                                                               \n",
      "                                                                 \n",
      "=================================================================\n",
      "Total params: 5,292,936\n",
      "Trainable params: 5,292,936\n",
      "Non-trainable params: 0\n",
      "_________________________________________________________________\n",
      "None\n"
     ]
    }
   ],
   "source": [
    "model = Addressor(UNITS, context_text_processor, target_text_processor)\n",
    "\n",
    "logits = model((ex_context_tok, ex_tar_in))\n",
    "\n",
    "model.compile(optimizer='adam',\n",
    "                  loss=masked_loss, \n",
    "                  metrics=[masked_acc, masked_loss])\n",
    "\n",
    "print(model.summary())"
   ]
  },
  {
   "cell_type": "code",
   "execution_count": 20,
   "metadata": {},
   "outputs": [
    {
     "name": "stdout",
     "output_type": "stream",
     "text": [
      "Epoch 1/10\n"
     ]
    },
    {
     "name": "stderr",
     "output_type": "stream",
     "text": [
      "c:\\Users\\gkchen\\Anaconda3\\lib\\site-packages\\keras\\backend.py:5582: UserWarning: \"`sparse_categorical_crossentropy` received `from_logits=True`, but the `output` argument was produced by a Softmax activation and thus does not represent logits. Was this intended?\n",
      "  output, from_logits = _get_logits(\n"
     ]
    },
    {
     "name": "stdout",
     "output_type": "stream",
     "text": [
      "100/100 [==============================] - 41s 286ms/step - loss: 2.9617 - masked_acc: 0.4817 - masked_loss: 3.5548 - val_loss: 1.9497 - val_masked_acc: 0.6017 - val_masked_loss: 2.3585\n",
      "Epoch 2/10\n",
      "100/100 [==============================] - 22s 219ms/step - loss: 1.6365 - masked_acc: 0.6668 - masked_loss: 1.9847 - val_loss: 1.2651 - val_masked_acc: 0.7512 - val_masked_loss: 1.5026\n",
      "Epoch 3/10\n",
      "100/100 [==============================] - 22s 215ms/step - loss: 0.9770 - masked_acc: 0.8073 - masked_loss: 1.1757 - val_loss: 0.7749 - val_masked_acc: 0.8458 - val_masked_loss: 0.9254\n",
      "Epoch 4/10\n",
      "100/100 [==============================] - 22s 215ms/step - loss: 0.6363 - masked_acc: 0.8724 - masked_loss: 0.7665 - val_loss: 0.5196 - val_masked_acc: 0.8923 - val_masked_loss: 0.6369\n",
      "Epoch 5/10\n",
      "100/100 [==============================] - 21s 213ms/step - loss: 0.4533 - masked_acc: 0.9039 - masked_loss: 0.5473 - val_loss: 0.3894 - val_masked_acc: 0.9146 - val_masked_loss: 0.4661\n",
      "Epoch 6/10\n",
      "100/100 [==============================] - 21s 212ms/step - loss: 0.3338 - masked_acc: 0.9245 - masked_loss: 0.4044 - val_loss: 0.3093 - val_masked_acc: 0.9293 - val_masked_loss: 0.3709\n",
      "Epoch 7/10\n",
      "100/100 [==============================] - 21s 212ms/step - loss: 0.2622 - masked_acc: 0.9365 - masked_loss: 0.3165 - val_loss: 0.2346 - val_masked_acc: 0.9439 - val_masked_loss: 0.2775\n",
      "Epoch 8/10\n",
      "100/100 [==============================] - 22s 218ms/step - loss: 0.2113 - masked_acc: 0.9459 - masked_loss: 0.2556 - val_loss: 0.1946 - val_masked_acc: 0.9488 - val_masked_loss: 0.2358\n",
      "Epoch 9/10\n",
      "100/100 [==============================] - 22s 222ms/step - loss: 0.1736 - masked_acc: 0.9518 - masked_loss: 0.2105 - val_loss: 0.1546 - val_masked_acc: 0.9574 - val_masked_loss: 0.1838\n",
      "Epoch 10/10\n",
      "100/100 [==============================] - 23s 225ms/step - loss: 0.1484 - masked_acc: 0.9573 - masked_loss: 0.1780 - val_loss: 0.1413 - val_masked_acc: 0.9590 - val_masked_loss: 0.1698\n"
     ]
    }
   ],
   "source": [
    "history = model.fit(\n",
    "    train_ds.repeat(), \n",
    "    epochs=10,\n",
    "    steps_per_epoch = 100,\n",
    "    validation_data=val_ds,\n",
    "    validation_steps = 20,\n",
    "    callbacks=[\n",
    "        tf.keras.callbacks.EarlyStopping(patience=3)])"
   ]
  },
  {
   "cell_type": "code",
   "execution_count": 21,
   "metadata": {},
   "outputs": [
    {
     "data": {
      "text/plain": [
       "<matplotlib.legend.Legend at 0x1bee2731610>"
      ]
     },
     "execution_count": 21,
     "metadata": {},
     "output_type": "execute_result"
    },
    {
     "data": {
      "image/png": "[encoded data removed]",
      "text/plain": [
       "<Figure size 1200x400 with 2 Axes>"
      ]
     },
     "metadata": {},
     "output_type": "display_data"
    }
   ],
   "source": [
    "import matplotlib\n",
    "import matplotlib.pyplot as plt\n",
    "import matplotlib.ticker as ticker\n",
    "\n",
    "matplotlib.rc_file_defaults()\n",
    "\n",
    "fig, (ax1, ax2) = plt.subplots(1, 2, figsize=(12,4))\n",
    "\n",
    "ax1.plot(history.history['loss'], label='loss')\n",
    "ax1.plot(history.history['val_loss'], label='val_loss')\n",
    "ax1.set_ylim([0, max(plt.ylim())])\n",
    "ax1.set_xlabel('Epoch #')\n",
    "ax1.set_ylabel('CE/token')\n",
    "ax1.legend()\n",
    "\n",
    "ax2.plot(history.history['masked_acc'], label='accuracy')\n",
    "ax2.plot(history.history['val_masked_acc'], label='val_accuracy')\n",
    "ax2.set_ylim([0, max(plt.ylim())])\n",
    "ax2.set_xlabel('Epoch #')\n",
    "ax2.set_ylabel('CE/token')\n",
    "ax2.legend()"
   ]
  },
  {
   "cell_type": "markdown",
   "metadata": {},
   "source": [
    "<a id=\"6\"></a>\n",
    "# 6 - Inference"
   ]
  },
  {
   "cell_type": "code",
   "execution_count": 22,
   "metadata": {},
   "outputs": [],
   "source": [
    "@Addressor.add_method\n",
    "def Addressor_fix(self,\n",
    "                  texts, *,\n",
    "                  max_length=50,\n",
    "                  random=False):\n",
    "    # Process the input texts\n",
    "    context = self.encoder.convert_input(texts)\n",
    "    batch_size = tf.shape(texts)[0]\n",
    "\n",
    "    # Setup the loop inputs\n",
    "    tokens = []\n",
    "    attention_weights = []\n",
    "    logits_l = []\n",
    "    next_token, done, state = self.decoder.get_initial_state(context)\n",
    "\n",
    "    for _ in range(max_length):\n",
    "        # Generate the next token\n",
    "        next_token, done, state, logits = self.decoder.get_next_token(\n",
    "            context, next_token, done,  state, random)\n",
    "\n",
    "        # Collect the generated tokens\n",
    "        tokens.append(next_token)\n",
    "        attention_weights.append(self.decoder.last_attention_weights)\n",
    "        logits_l.append(logits)\n",
    "\n",
    "        if tf.executing_eagerly() and tf.reduce_all(done):\n",
    "            break\n",
    "\n",
    "    # Stack the lists of tokens and attention weights.\n",
    "    tokens = tf.concat(tokens, axis=-1)   # t*[(batch 1)] -> (batch, t)\n",
    "    self.last_attention_weights = tf.concat(attention_weights, axis=1)  # t*[(batch 1 s)] -> (batch, t s)\n",
    "    self.all_logis = tf.concat(logits_l, axis=1)\n",
    "\n",
    "    result = self.decoder.tokens_to_text(tokens)\n",
    "    return result\n",
    "\n",
    "@Addressor.add_method\n",
    "def plot_attention(self, text, **kwargs):\n",
    "    assert isinstance(text, str)\n",
    "    output = self.Addressor_fix([text], **kwargs)\n",
    "    output = output[0].numpy().decode()\n",
    "\n",
    "    attention = self.last_attention_weights[0]\n",
    "\n",
    "    context = utils.tf_lower_and_split_punct(text)\n",
    "    context = context.numpy().decode().split()\n",
    "\n",
    "    output = utils.tf_lower_and_split_punct(output)\n",
    "    output = output.numpy().decode().split()[1:]\n",
    "\n",
    "    fig = plt.figure(figsize=(16,8))\n",
    "    ax = fig.add_subplot(1, 1, 1)\n",
    "\n",
    "    ax = sns.heatmap(model.last_attention_weights[0], annot=True, fmt=\".3f\")\n",
    "\n",
    "    fontdict = {'fontsize': 14}\n",
    "\n",
    "    ax.set_xticklabels(context, fontdict=fontdict)\n",
    "    ax.set_yticklabels(output, fontdict=fontdict)\n",
    "\n",
    "    ax.set_xlabel('Input text')\n",
    "    ax.set_ylabel('Output text')\n",
    "\n",
    "    ax.xaxis.tick_top()\n",
    "    ax.xaxis.set_label_position('top')"
   ]
  },
  {
   "cell_type": "markdown",
   "metadata": {},
   "source": [
    "# Sandbox Section"
   ]
  },
  {
   "cell_type": "code",
   "execution_count": 23,
   "metadata": {},
   "outputs": [
    {
     "name": "stdout",
     "output_type": "stream",
     "text": [
      "tf.Tensor(\n",
      "[b'580 Schenck Ave Kings 11207' b'2679 Ford St Kings 11235'\n",
      " b'15 203 St Saint Albans NY' b'48 177 St Queens 11366'\n",
      " b'548 Schenck Brooklyn Kings NY'], shape=(5,), dtype=string)\n",
      "\n",
      "tf.Tensor(\n",
      "[b'580 Schenck Ave Brooklyn Kings NY 11207'\n",
      " b'2679 Ford St Brooklyn Kings NY 11235'\n",
      " b'15 203 St Saint Albans Queens NY 11412'\n",
      " b'48 177 St Fresh Meadows Queens NY 11366'\n",
      " b'548 Schenck Ave Brooklyn Kings NY 11207'], shape=(5,), dtype=string)\n"
     ]
    }
   ],
   "source": [
    "\n",
    "for example_context_strings, example_target_strings in train_raw.take(1):\n",
    "    print(example_context_strings[0:5])\n",
    "    print()\n",
    "    print(example_target_strings[0:5])\n",
    "    break"
   ]
  },
  {
   "cell_type": "code",
   "execution_count": 24,
   "metadata": {},
   "outputs": [
    {
     "data": {
      "text/plain": [
       "'963 76 st brooklyn kings ny 11228 '"
      ]
     },
     "execution_count": 24,
     "metadata": {},
     "output_type": "execute_result"
    }
   ],
   "source": [
    "context_raw = '963 76 St Brooklyn NY'\n",
    "result = model.Addressor_fix([context_raw]) \n",
    "result.numpy()[0].decode()"
   ]
  },
  {
   "cell_type": "code",
   "execution_count": 25,
   "metadata": {},
   "outputs": [
    {
     "data": {
      "image/png": "[encoded data removed]",
      "text/plain": [
       "<Figure size 1600x800 with 2 Axes>"
      ]
     },
     "metadata": {},
     "output_type": "display_data"
    }
   ],
   "source": [
    "import warnings\n",
    "warnings.simplefilter(action='ignore', category=UserWarning)\n",
    "\n",
    "model.plot_attention(context_raw)"
   ]
  },
  {
   "cell_type": "markdown",
   "metadata": {},
   "source": [
    "# Sandbox Section"
   ]
  },
  {
   "cell_type": "code",
   "execution_count": 196,
   "metadata": {},
   "outputs": [
    {
     "data": {
      "text/plain": [
       "<tf.Tensor: shape=(), dtype=string, numpy=b'11228 11236 11209 11214 11204 11219 11234 11232 11231 11220'>"
      ]
     },
     "execution_count": 196,
     "metadata": {},
     "output_type": "execute_result"
    }
   ],
   "source": [
    "hidden_state_logit = utils.top_5_index(model.all_logis[0][6],10)\n",
    "model.decoder.tokens_to_text(hidden_state_logit)"
   ]
  },
  {
   "cell_type": "markdown",
   "metadata": {},
   "source": [
    "The reason why 11237 is on the second on logic: https://maps.app.goo.gl/FoMGUksbecrb23tG9"
   ]
  },
  {
   "cell_type": "markdown",
   "metadata": {},
   "source": []
  }
 ],
 "metadata": {
  "kernelspec": {
   "display_name": "base",
   "language": "python",
   "name": "python3"
  },
  "language_info": {
   "codemirror_mode": {
    "name": "ipython",
    "version": 3
   },
   "file_extension": ".py",
   "mimetype": "text/x-python",
   "name": "python",
   "nbconvert_exporter": "python",
   "pygments_lexer": "ipython3",
   "version": "3.9.7"
  },
  "orig_nbformat": 4
 },
 "nbformat": 4,
 "nbformat_minor": 2
}
