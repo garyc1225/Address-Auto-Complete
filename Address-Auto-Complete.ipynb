{
 "cells": [
  {
   "cell_type": "markdown",
   "metadata": {},
   "source": [
    "# Address-AutoComplete-Bot\n",
    "\n",
    "This notebook shows the end-to-end process of training and building a Address Autocomplete Bot using Global Attention Mechanism."
   ]
  },
  {
   "cell_type": "markdown",
   "metadata": {},
   "source": [
    "## Table of Contents\n",
    "\n",
    "- [1 - Intro](#1)\n",
    "- [2 - Review](#2)\n",
    "- [3 - Address Datasets](#3)\n",
    "    - [3.1 - Training Data Generation](#3-1)\n",
    "    - [3.2 - Data Processing](#3-2)\n",
    "- [4 - Encoder, Attention, and Decoder](#4)\n",
    "    - [4.1 - Encoder](#4-1)\n",
    "    - [4.2 - Attention](#4-2)\n",
    "    - [4.3 - Decoder](#4-3)\n",
    "    - [4.4 - Shape Check](#4-4)\n",
    "- [5 - Training](#5)\n",
    "- [6 - Inference](#6)\n",
    "    - [6.1 - Deep Dive](#4-4)"
   ]
  },
  {
   "cell_type": "markdown",
   "metadata": {},
   "source": [
    "<a id=\"1\"></a>\n",
    "## 1 - Intro"
   ]
  },
  {
   "cell_type": "markdown",
   "metadata": {},
   "source": [
    "Imagine the chaos of online shopping if addresses were a crapshoot. Wrong deliveries, frustrated customers, and the fraud that could totally ruin our holidays. Address is one of the most important data to get right for all transactions in life. My wife and I buy countless items across dozens of websites, and it's hard to imagine what would happen if the address was incorrect. Luckily this is not a hard problem: we have powerful tools like [Google Maps API](https://developers.google.com/maps/documentation/javascript) to ensure address accuracy. But, are geospatial databases the only way to go?\n",
    "\n",
    "Recently, I completed the [Deep Learning Specialization](https://www.deeplearning.ai/courses/deep-learning-specialization/) course from Andrew NG. During the course of Large Language Models (LLM), I dove into the heart of all advanced sequenced models - attention mechanism. The attention mechanism is a powerful algorithm that has revolutionized the field of Natural Language Processing (NLP). It allows models to focus on specific parts of their input data, which is essential for learning long-range dependencies and understanding the context of complex sequences. Attention mechanisms have been shown to significantly improve the performance of Large Language Models (LLMs) on a variety of tasks, including machine translation, text summarization, and question answering.\n",
    "\n",
    "My question: **Can a toy-size LLM demonstrate good performance on the task of predicting accurate and auto-complete addresses without any geospatial knowledge?** While it is known that LLMs are capable of learning complex and non-linear relationships between features and predictions on tabular & text data, it is unclear whether they can perform well on address correction (i.e., text generation) without knowing the representative meaning of individual address components such as street names, cities, and states. Can they correctly predict that an address should be in New York, without knowing what the text \"New York\" mean?\n",
    "\n",
    "This toy project aims to develop an address autocomplete bot that uses the attention mechanism to autocomplete addresses without requiring any geospatial knowledge. The bot will be trained on a large dataset of correctly formatted addresses, and will use the attention mechanism to learn the relationships between different address components. The address autocomplete bot will be able to do things:\n",
    "  1. **Detect Address Error**: When given an inaccurate address, the bot will be able to detect the errors and modify the output address\n",
    "  2. **Autocomplet Address**: When given an inomplete address, the bot will be able to autocomplete the remaining address.\n",
    "\n",
    "<div style=\"text-align: center;\">\n",
    "<img src=\"image/bot_function_1.png\" width=\"500\"> <br>\n",
    "<caption><center><b>Figure 0</b>: Address AutoComplete Bot Function </center></caption>\n",
    "</div>\n",
    "\n",
    "*References*\n",
    "  - [Effective Approaches to Attention-based Neural Machine Translation (Luong et al., 2015)](https://arxiv.org/abs/1508.04025v5)\n",
    "  - [Neural Machine Translation with attention](https://www.tensorflow.org/text/tutorials/nmt_with_attention)"
   ]
  },
  {
   "cell_type": "markdown",
   "metadata": {},
   "source": [
    "<a id=\"2\"></a>\n",
    "## 2 - Review"
   ]
  },
  {
   "cell_type": "markdown",
   "metadata": {},
   "source": [
    "Deep learning methods are being used in solving NLP quesitons since the early 2000s. Deep learning methods are a type of neural network that can learn complex relationships in data. In 2010s, we witness the rise of large language models (LLMs). LLMs are trained on massive datasets of text and code, which allows them to learn the statistical relationships between words and phrases at an unprecedented scale. In the paragraph below, I will summarize the development of deep learning methods on NLP, from Recurrent Neural Network (RNN), Long Short-Term Memory (LSTM), to the recent developed Attention Mechanism. \n",
    "\n",
    "- **Recurrent Neural Networks (RNNs)**\n",
    "\n",
    "RNN are a type of neural network that can process sequences of data. They are the first type of neural networks that are able to learn long-term dependencies within text data, making them the first choice to solve NLP problems. However, one of the disadvantages of RNN is that they are prone to \"vanishing gradient\". The vanishing gradient problem is a major obstacle to training RNNs to learn long-term dependencies. This is because long-term dependencies require the network to remember information from many time steps ago, and the vanishing gradient problem makes it difficult for the network to do this.\n",
    "\n",
    "A language example can easily demonstrate this idea of long-term dependencies. In the sentence below, the verb `has` is influenced by the word `Dog` at the very beginning. If the word `Dog` is changed to a plural form, then the verb `has` would need to be updated to the word `have`. This long-range dependencies can extend over a very long step, as we do not know how many words (aka steps) are in between these two words.\n",
    "\n",
    "<div style=\"text-align: center;\">\n",
    "<img src=\"image/language_example.png\" width=\"500\"> <br>\n",
    "<caption><center><b>Figure 1</b>: A language example </center></caption>\n",
    "</div>\n",
    "\n",
    "A standard RNN neural network architecture is shown below. In order to learn the long-term dependencies relationship, we hope the model is able to pass on the hidden state $a^{\\langle 2 \\rangle}$ to the position of $x^{\\langle T_{x} \\rangle}$. The basic RNNs that we have seen so far are not very good at handling such long-term dependencies, mainly due to the Vanishing Gradient Problem. When the gradients traverse through multiple steps it become very small, which makes it difficult for the network to learn.\n",
    "\n",
    "<div style=\"text-align: center;\">\n",
    "<img src=\"image/rnn.png\" width=\"500\"> <br>\n",
    "<caption><center><b>Figure 2</b>: Basic RNN Structure </center></caption>\n",
    "</div>\n",
    "\n",
    "- **Long Short-Term Memory (LSTM)**\n",
    "\n",
    "LSTMs are a type of RNN that address the vanishing gradient problem. They do this by using gates to control the flow of information in the network. The figure below shows the operations of an LSTM cell.\n",
    "\n",
    "The gates in a LSTM cell are described below:\n",
    "\n",
    "- Forget Gate ($\\mathbf{\\Gamma}_{f}$): The forget gate can be used to *\"forget\"* the previous state. For example, if the subject changes from a singular word `Dog` to a plural `Dogs`, the memory of the previous state becomes outdated and should be forgotten. \n",
    "\n",
    "- Update Gate ($\\mathbf{\\Gamma}_{i}$): The update gate can be used to decide what aspects of the candidate $\\tilde{\\mathbf{c}}^{\\langle t \\rangle}$ to add to the cell state $c^{\\langle t \\rangle}$. The candidate $\\tilde{\\mathbf{c}}^{\\langle t \\rangle}$ is a tensor containing information from the current time step that **may** be stored in the current cell state $\\mathbf{c}^{\\langle t \\rangle}$. The current cell state $\\mathbf{c}^{\\langle t \\rangle}$ is the \"memory\" that gets passed onto future time steps.\n",
    "\n",
    "- Output Gate ($\\mathbf{\\Gamma}_{o}$): The output gate decides what gets sent as the prediction (output) of the time step.\n",
    "\n",
    "The LSTM unit can remember long-term dependencies because the cell state is not updated at every time step, as shown in formula 4. This allows the LSTM unit to retain information from previous time steps, even if it is not used in the current time step.\n",
    "\n",
    "<div style=\"text-align: center;\">\n",
    "<img src=\"image/lstm.png\" width=\"500\"> <br>\n",
    "<caption><center><b>Figure 3</b>: LSTM Cell </center></caption>\n",
    "</div>\n",
    "\n",
    "$$\\mathbf{\\Gamma}_f^{\\langle t \\rangle} = \\sigma(\\mathbf{W}_f[\\mathbf{a}^{\\langle t-1 \\rangle}, \\mathbf{x}^{\\langle t \\rangle}] + \\mathbf{b}_f)\\tag{1} $$\n",
    "$$\\mathbf{\\Gamma}_i^{\\langle t \\rangle} = \\sigma(\\mathbf{W}_i[a^{\\langle t-1 \\rangle}, \\mathbf{x}^{\\langle t \\rangle}] + \\mathbf{b}_i)\\tag{2} $$ \n",
    "$$\\mathbf{\\tilde{c}}^{\\langle t \\rangle} = \\tanh\\left( \\mathbf{W}_{c} [\\mathbf{a}^{\\langle t - 1 \\rangle}, \\mathbf{x}^{\\langle t \\rangle}] + \\mathbf{b}_{c} \\right) \\tag{3}$$\n",
    "$$ \\mathbf{c}^{\\langle t \\rangle} = \\mathbf{\\Gamma}_f^{\\langle t \\rangle}* \\mathbf{c}^{\\langle t-1 \\rangle} + \\mathbf{\\Gamma}_{i}^{\\langle t \\rangle} *\\mathbf{\\tilde{c}}^{\\langle t \\rangle} \\tag{4} $$\n",
    "$$ \\mathbf{\\Gamma}_o^{\\langle t \\rangle}=  \\sigma(\\mathbf{W}_o[\\mathbf{a}^{\\langle t-1 \\rangle}, \\mathbf{x}^{\\langle t \\rangle}] + \\mathbf{b}_{o})\\tag{5}$$ \n",
    "$$ \\mathbf{a}^{\\langle t \\rangle} = \\mathbf{\\Gamma}_o^{\\langle t \\rangle} * \\tanh(\\mathbf{c}^{\\langle t \\rangle})\\tag{6} $$\n",
    "\n",
    "- **Attention Mechanism**\n",
    "\n",
    "LSTM solves the vanishing gradient problem as it allows the cell state to flow through multiple time steps. However, in the language example above, the word `has` does not rely on any other word in the sentence other than the word `dog`. Attention Mechanism was developed to allow the neural network to put more weight on certain long-range dependencies than others at each position $x^{\\langle T_{x} \\rangle}$, hence the word \"Attention\".\n",
    "\n",
    "The attention mechanism was first proposed by __[Neural Machine Translation by Jointly Learning to Align and Translate (Bahdanau et al., 2014)](https://arxiv.org/abs/1409.0473)__, and its a powerful tool that has revolutionized the field of NLP.  Attention Mechanism is commonly used with the encoder-decoders network family. The encoder encodes a source sentence into a fixed-length tensor. The attention mechanism then calcualtes a score for each word, indicating how important the word is to the current position $x^{\\langle T_{x} \\rangle}$. When the score is higher, the network will pay more attention to this word for the current output $y^{\\langle T_{x} \\rangle}$. When the score is lower, the network pay less attention.\n",
    "\n",
    "The figure below shows what one \"attention\" step does to calculate the attention variables $\\alpha^{\\langle t, t' \\rangle}$. $s^{\\langle t-1 \\rangle}$ is the one-step prior hidden state from the post-attention decoder, and $a^{\\langle t' \\rangle}$ is the hidden state from the pre-attention encoder. $s^{\\langle t-1 \\rangle}$ and $a^{\\langle t \\rangle}$ are fed into a simple neural network with a dense layer to learn and compute the output $e^{\\langle t, t' \\rangle}$. $e^{\\langle t, t' \\rangle}$ is then used when computing the attention $\\alpha^{\\langle t, t' \\rangle}$ that $y^{\\langle t \\rangle}$ should pay to $a^{\\langle t' \\rangle}$. \n",
    "\n",
    "Finally, the $context^{ \\langle t \\rangle }$ works as a weighted average of all the attention weights. Then, the decoder's output along with the context vector is used to predict the next output $y^{\\langle T_{x+1} \\rangle}$\n",
    "\n",
    "$$context^{<t>} = \\sum_{t' = 1}^{T_x} \\alpha^{<t,t'>}a^{<t'>}\\tag{1}$$ \n",
    "\n",
    "<div style=\"text-align: center;\">\n",
    "<img src=\"image/attn_mechanism.png\" width=\"500\"> <br>\n",
    "<caption><center><b>Figure 4</b>: Attention Mechanism </center></caption>\n",
    "</div>"
   ]
  },
  {
   "cell_type": "markdown",
   "metadata": {},
   "source": [
    "<a id=\"3\"></a>\n",
    "## 3 - Datasets"
   ]
  },
  {
   "cell_type": "markdown",
   "metadata": {},
   "source": [
    "The address data is downloaded from the [New York State Geographic Information System (GIS)](https://gis.ny.gov/) website. We will only train this bot on the larger NY area addresses (Manhattan, Brooklyn, Queens, Bronx, Staten Island) for demonstration purpose and to minimize network training time. The address dataset download direction can be found [here](https://gis.ny.gov/system/files/documents/2023/03/how-to-create-county-filters-of-nys-address-point-data.pdf).\n",
    "\n",
    "The dataset has the below columns: \n",
    "\n",
    "|**Column Name**|**Type**|\n",
    "|------|------|\n",
    "|AddressNumber|int|\n",
    "|StreetName|string|\n",
    "|PostType|string|\n",
    "|CountyName|string|\n",
    "|CityTownName|string|\n",
    "|ZipName|string|\n",
    "|ZipCode|int|\n",
    "|State|string|"
   ]
  },
  {
   "cell_type": "code",
   "execution_count": 1,
   "metadata": {},
   "outputs": [
    {
     "name": "stderr",
     "output_type": "stream",
     "text": [
      "c:\\Users\\gkchen\\Anaconda3\\lib\\site-packages\\scipy\\__init__.py:146: UserWarning: A NumPy version >=1.16.5 and <1.23.0 is required for this version of SciPy (detected version 1.23.1\n",
      "  warnings.warn(f\"A NumPy version >={np_minversion} and <{np_maxversion}\"\n"
     ]
    }
   ],
   "source": [
    "import pandas as pd\n",
    "import numpy as np\n",
    "import utils\n",
    "import seaborn as sns\n",
    "import tensorflow as tf\n",
    "import tensorflow_text as tf_text"
   ]
  },
  {
   "cell_type": "code",
   "execution_count": 2,
   "metadata": {},
   "outputs": [
    {
     "name": "stdout",
     "output_type": "stream",
     "text": [
      "Dataset shape: (746396, 8)\n"
     ]
    },
    {
     "data": {
      "text/html": [
       "<div>\n",
       "<style scoped>\n",
       "    .dataframe tbody tr th:only-of-type {\n",
       "        vertical-align: middle;\n",
       "    }\n",
       "\n",
       "    .dataframe tbody tr th {\n",
       "        vertical-align: top;\n",
       "    }\n",
       "\n",
       "    .dataframe thead th {\n",
       "        text-align: right;\n",
       "    }\n",
       "</style>\n",
       "<table border=\"1\" class=\"dataframe\">\n",
       "  <thead>\n",
       "    <tr style=\"text-align: right;\">\n",
       "      <th></th>\n",
       "      <th>AddressNumber</th>\n",
       "      <th>StreetName</th>\n",
       "      <th>PostType</th>\n",
       "      <th>CountyName</th>\n",
       "      <th>CityTownName</th>\n",
       "      <th>ZipName</th>\n",
       "      <th>ZipCode</th>\n",
       "      <th>State</th>\n",
       "    </tr>\n",
       "  </thead>\n",
       "  <tbody>\n",
       "    <tr>\n",
       "      <th>5671799</th>\n",
       "      <td>1468</td>\n",
       "      <td>53</td>\n",
       "      <td>St</td>\n",
       "      <td>Kings</td>\n",
       "      <td>New York</td>\n",
       "      <td>Brooklyn</td>\n",
       "      <td>11234</td>\n",
       "      <td>NY</td>\n",
       "    </tr>\n",
       "    <tr>\n",
       "      <th>4606002</th>\n",
       "      <td>34</td>\n",
       "      <td>190</td>\n",
       "      <td>St</td>\n",
       "      <td>Queens</td>\n",
       "      <td>New York</td>\n",
       "      <td>Fresh Meadows</td>\n",
       "      <td>11366</td>\n",
       "      <td>NY</td>\n",
       "    </tr>\n",
       "    <tr>\n",
       "      <th>5239412</th>\n",
       "      <td>3346</td>\n",
       "      <td>Corsa</td>\n",
       "      <td>Ave</td>\n",
       "      <td>Bronx</td>\n",
       "      <td>New York</td>\n",
       "      <td>Bronx</td>\n",
       "      <td>10469</td>\n",
       "      <td>NY</td>\n",
       "    </tr>\n",
       "    <tr>\n",
       "      <th>5248361</th>\n",
       "      <td>1918</td>\n",
       "      <td>Radcliff</td>\n",
       "      <td>Ave</td>\n",
       "      <td>Bronx</td>\n",
       "      <td>New York</td>\n",
       "      <td>Bronx</td>\n",
       "      <td>10462</td>\n",
       "      <td>NY</td>\n",
       "    </tr>\n",
       "    <tr>\n",
       "      <th>5391937</th>\n",
       "      <td>421</td>\n",
       "      <td>118</td>\n",
       "      <td>St</td>\n",
       "      <td>New York</td>\n",
       "      <td>New York</td>\n",
       "      <td>New York</td>\n",
       "      <td>10035</td>\n",
       "      <td>NY</td>\n",
       "    </tr>\n",
       "  </tbody>\n",
       "</table>\n",
       "</div>"
      ],
      "text/plain": [
       "         AddressNumber StreetName PostType CountyName CityTownName  \\\n",
       "5671799           1468         53       St      Kings     New York   \n",
       "4606002             34        190       St     Queens     New York   \n",
       "5239412           3346      Corsa      Ave      Bronx     New York   \n",
       "5248361           1918   Radcliff      Ave      Bronx     New York   \n",
       "5391937            421        118       St   New York     New York   \n",
       "\n",
       "               ZipName  ZipCode State  \n",
       "5671799       Brooklyn    11234    NY  \n",
       "4606002  Fresh Meadows    11366    NY  \n",
       "5239412          Bronx    10469    NY  \n",
       "5248361          Bronx    10462    NY  \n",
       "5391937       New York    10035    NY  "
      ]
     },
     "execution_count": 2,
     "metadata": {},
     "output_type": "execute_result"
    }
   ],
   "source": [
    "ny_address = pd.read_parquet('Datasets/NYS_clean.parquet.gz', engine='pyarrow')\n",
    "print(f'Dataset shape: {ny_address.shape}')\n",
    "ny_address.sample(5)"
   ]
  },
  {
   "cell_type": "code",
   "execution_count": 3,
   "metadata": {},
   "outputs": [
    {
     "data": {
      "text/plain": [
       "Kings          0.386011\n",
       "Queens         0.234193\n",
       "Richmond       0.166930\n",
       "Bronx          0.136503\n",
       "New York       0.076250\n",
       "Nassau         0.000074\n",
       "Westchester    0.000039\n",
       "Name: CountyName, dtype: float64"
      ]
     },
     "execution_count": 3,
     "metadata": {},
     "output_type": "execute_result"
    }
   ],
   "source": [
    "# Checking the County Distribution: \n",
    "### 62% of the addresses are in Kings (Brooklyn borough) and Quees (Queens borough) county.\n",
    "ny_address['CountyName'].value_counts(normalize=True)"
   ]
  },
  {
   "cell_type": "code",
   "execution_count": 4,
   "metadata": {},
   "outputs": [
    {
     "name": "stdout",
     "output_type": "stream",
     "text": [
      "AddressNumber has max length of 5\n",
      "StreetName has max length of 28\n",
      "PostType has max length of 6\n",
      "CountyName has max length of 11\n",
      "CityTownName has max length of 8\n",
      "ZipName has max length of 19\n",
      "ZipCode has max length of 5\n",
      "State has max length of 2\n"
     ]
    }
   ],
   "source": [
    "# Checking the length for each address component. \n",
    "### Max word length is an important parameter for the word embedding that will happen later\n",
    "for col_i in ny_address.columns:\n",
    "    print(f'{col_i} has max length of {ny_address[col_i].astype(str).apply(len).max()}')"
   ]
  },
  {
   "cell_type": "markdown",
   "metadata": {},
   "source": [
    "<a id=\"3-1\"></a>\n",
    "## 3-1 - Training Data Generation"
   ]
  },
  {
   "cell_type": "code",
   "execution_count": 5,
   "metadata": {},
   "outputs": [],
   "source": [
    "import utils\n",
    "from importlib import reload\n",
    "utils = reload(utils)"
   ]
  },
  {
   "cell_type": "markdown",
   "metadata": {},
   "source": [
    "To train the neural network to output the correct complete address, we need to teach it the relationships between different address components, including street name, city, state and zip code. We do this by generating training data by \"masking\" certain address components. The `context_raw` dataframe contains the \"masked\" addresses, and the `target_raw` dataframe contains the complete addresses. We sample with replacement so that one address can be used for multiple training points in different training epochs.\n",
    "\n",
    "The figure below illustrates the training data generation process. For example, if we mask one complete address three different ways, we will generate three training data points.\n",
    "\n",
    "<div style=\"text-align: center;\">\n",
    "<img src=\"image/mask_generate.PNG\" width=\"800\"> <br>\n",
    "<caption><center><b>Figure 5</b>: Training Data Generation Process </center></caption>\n",
    "</div>\n",
    "\n",
    "One limitation of this method is that not all training data points are equally helpful to the model. This is due to the hierarchical structure of address components. For example, training data point No. 3 will be helpful to the model because we want it to learn to output the most likely zip code for `321 34th St, New York, New York`, which is `10016`. However, training data point No. 1 will not be as helpful, because many addresses can have the zip code `10016`. We expect the model cost function to reduce more with training data point No. 3 than with training data point No. 1."
   ]
  },
  {
   "cell_type": "code",
   "execution_count": null,
   "metadata": {},
   "outputs": [],
   "source": [
    "context_raw,target_raw = utils.create_label_target('Datasets/NYS_clean.parquet.gz')\n",
    "print(f'Context shape: {context_raw.shape}')\n",
    "print(f'Target shape: {target_raw.shape}')"
   ]
  },
  {
   "cell_type": "code",
   "execution_count": 18,
   "metadata": {},
   "outputs": [
    {
     "name": "stdout",
     "output_type": "stream",
     "text": [
      "Masked Address: 4015 Church Kings NY 11203\n",
      "Complete Address: 4015 Church Ave Brooklyn Kings NY 11203\n"
     ]
    }
   ],
   "source": [
    "random_numbers = np.random.choice(len(context_raw), 1)[0]\n",
    "print(f'Masked Address: {context_raw[random_numbers]}')\n",
    "print(f'Complete Address: {target_raw[random_numbers]}')\n"
   ]
  },
  {
   "cell_type": "code",
   "execution_count": 7,
   "metadata": {},
   "outputs": [],
   "source": [
    "# np.save(\"Datasets/context_raw.npy\", context_raw)\n",
    "# np.save(\"Datasets/target_raw.npy\", target_raw)\n",
    "\n",
    "context_raw = np.load(\"Datasets/context_raw.npy\")\n",
    "target_raw = np.load(\"Datasets/target_raw.npy\")"
   ]
  },
  {
   "cell_type": "markdown",
   "metadata": {},
   "source": [
    "<a id=\"3-2\"></a>\n",
    "## 3-2 - Data Processing"
   ]
  },
  {
   "cell_type": "markdown",
   "metadata": {},
   "source": [
    "**Step 1**: Split the dataset into 80% `train_raw` and 20% `val_raw`. Create a `tf.data.Dataset` for these strings. `tf.data.Dataset` is designed to be efficient, both in terms of memory usage and runtime performance. It can automatically parallelize data loading and processing, and it can also be used to cache data in memory or on disk to improve performance."
   ]
  },
  {
   "cell_type": "code",
   "execution_count": 8,
   "metadata": {},
   "outputs": [],
   "source": [
    "import tensorflow as tf\n",
    "import tensorflow_text as tf_text\n",
    "\n",
    "BUFFER_SIZE = len(context_raw)\n",
    "BATCH_SIZE = 64\n",
    "\n",
    "is_train = np.random.uniform(size=(len(target_raw),)) < 0.8\n",
    "\n",
    "train_raw = (\n",
    "    tf.data.Dataset\n",
    "    .from_tensor_slices((context_raw[is_train], target_raw[is_train]))\n",
    "    .shuffle(BUFFER_SIZE)\n",
    "    .batch(BATCH_SIZE))\n",
    "val_raw = (\n",
    "    tf.data.Dataset\n",
    "    .from_tensor_slices((context_raw[~is_train], target_raw[~is_train]))\n",
    "    .shuffle(BUFFER_SIZE)\n",
    "    .batch(BATCH_SIZE))"
   ]
  },
  {
   "cell_type": "markdown",
   "metadata": {},
   "source": [
    "**Step 2**: We can use the `tf.keras.layers.TextVectorization` to apply preprocessing to the text, and maps text features to integer token sequences. The text standardization is handled by the `utils.tf_lower_and_split_punct`."
   ]
  },
  {
   "cell_type": "code",
   "execution_count": 9,
   "metadata": {},
   "outputs": [],
   "source": [
    "# This parameters defines the saximum size of the vocabulary for this layer\n",
    "max_vocab_size = 5000\n",
    "\n",
    "context_text_processor = tf.keras.layers.TextVectorization(\n",
    "    standardize=utils.tf_lower_and_split_punct,\n",
    "    max_tokens=max_vocab_size,\n",
    "    ragged=True)\n",
    "\n",
    "# The adapt method reads one epoch of the training data, and works a lot like Model.fit. \n",
    "# This method initializes the layer based on the data.\n",
    "context_text_processor.adapt(train_raw.map(lambda context, target: context))"
   ]
  },
  {
   "cell_type": "code",
   "execution_count": 10,
   "metadata": {},
   "outputs": [],
   "source": [
    "target_text_processor = tf.keras.layers.TextVectorization(\n",
    "    standardize=utils.tf_lower_and_split_punct,\n",
    "    max_tokens=max_vocab_size,\n",
    "    ragged=True)\n",
    "\n",
    "target_text_processor.adapt(train_raw.map(lambda context, target: target))"
   ]
  },
  {
   "cell_type": "code",
   "execution_count": 11,
   "metadata": {},
   "outputs": [
    {
     "name": "stdout",
     "output_type": "stream",
     "text": [
      "Address To token: [  2 140 221   5   7   6   4 128   3]\n",
      "Token back to Address\n",
      "[START] 68 96 st brooklyn kings ny 11212 [END]\n"
     ]
    }
   ],
   "source": [
    "# The context_text_processor convert a address into a token sequences\n",
    "# The [START] and [END] represents the Start of String token and End of String token. These tokens will tell the model when to start and stop the prediction.\n",
    "example_text = tf.constant('68 96 St Brooklyn Kings NY 11212')\n",
    "example_tokens = context_text_processor(example_text)\n",
    "print(f'Address To token: {example_tokens}')\n",
    "\n",
    "context_vocab = np.array(context_text_processor.get_vocabulary())\n",
    "tokens = context_vocab[example_tokens.numpy()]\n",
    "print('Token back to Address')\n",
    "print(' '.join(tokens))\n"
   ]
  },
  {
   "cell_type": "markdown",
   "metadata": {},
   "source": [
    "**Step 3**: Convert the `tf.data.Dataset` to 0-padded tensors of token. The `target_in` and `target_out` is shifted by one step relative to each other. "
   ]
  },
  {
   "cell_type": "code",
   "execution_count": 12,
   "metadata": {},
   "outputs": [],
   "source": [
    "def process_text(context, target):\n",
    "    context = context_text_processor(context).to_tensor()\n",
    "    target = target_text_processor(target)\n",
    "    targ_in = target[:,:-1].to_tensor()\n",
    "    targ_out = target[:,1:].to_tensor()\n",
    "    return (context, targ_in), targ_out\n",
    "\n",
    "train_ds = train_raw.map(process_text, tf.data.AUTOTUNE)\n",
    "val_ds = val_raw.map(process_text, tf.data.AUTOTUNE)"
   ]
  },
  {
   "cell_type": "code",
   "execution_count": 13,
   "metadata": {},
   "outputs": [],
   "source": [
    "tf.data.Dataset.save(train_ds, \"Datasets/train_ds.tfds\")\n",
    "tf.data.Dataset.save(val_ds, \"Datasets/val_ds.tfds\")"
   ]
  },
  {
   "cell_type": "markdown",
   "metadata": {},
   "source": [
    "<a id=\"4\"></a>\n",
    "# 4 - Encoder, Attention, and Decoder"
   ]
  },
  {
   "cell_type": "markdown",
   "metadata": {},
   "source": [
    "<a id=\"4-1\"></a>\n",
    "## 4-1 - Encoder"
   ]
  },
  {
   "cell_type": "markdown",
   "metadata": {},
   "source": [
    "The goal of the encoder is to process the context sequence $x^{\\langle T_{x} \\rangle}$ (in our case, the address string) into a sequence of vectors that the decoder can use to predict the next output $y^{\\langle T_{x+1} \\rangle}$.\n",
    "<br>\n",
    "<br>\n",
    "The details of the encoder network is listed below:\n",
    "\n",
    "1. `tf.keras.layers.Embedding`: An embedding layer that convert postive integers (i.e., tokens) into dense vectors\n",
    "\n",
    "2. `tf.keras.layers.Bidirectional`: A bi-directional wrapper for RNNs. Here we use a GRU unit with 256 neurons. The reason we choose a bi-directional GRU is because the hidden state should flow both ways in the encoder. For example, in the exmample address of `4015 Church Ave Brooklyn Kings NY 11203`, the borough component `Brooklyn` should have the hidden state flow from the prior component `4015 Church Ave` and also from the post component `Kings NY 11203`.\n"
   ]
  },
  {
   "cell_type": "code",
   "execution_count": 14,
   "metadata": {},
   "outputs": [],
   "source": [
    "UNITS = 256\n",
    "\n",
    "class GRU_Encoder(tf.keras.layers.Layer):\n",
    "    \"\"\"An encoder model that encodes input sequences into hidden states.\"\"\"\n",
    "\n",
    "    def __init__(self, text_processor, units=UNITS):\n",
    "        \"\"\"Initializes the encoder.\n",
    "\n",
    "        Args:\n",
    "            text_processor: A text processor that can be used to convert text sequences to tensors and vice versa.\n",
    "            units: The dimension of the hidden states.\n",
    "        \"\"\"\n",
    "\n",
    "        super(GRU_Encoder, self).__init__()\n",
    "\n",
    "        self.text_processor = text_processor\n",
    "        self.vocab_size = text_processor.vocabulary_size()\n",
    "        self.units = units\n",
    "\n",
    "        self.embedding = tf.keras.layers.Embedding(self.vocab_size, units, mask_zero=True)\n",
    "\n",
    "        self.rnn = tf.keras.layers.Bidirectional(\n",
    "            merge_mode='sum',\n",
    "            layer=tf.keras.layers.GRU(units, return_sequences=True, recurrent_initializer='glorot_uniform'))\n",
    "\n",
    "    def call(self, x):\n",
    "        \"\"\"Encodes the input sequences.\n",
    "\n",
    "        Args:\n",
    "            x: A tensor of shape `[batch_size, max_sequence_length]`.\n",
    "\n",
    "        Returns:\n",
    "            A tensor of shape `[batch_size, max_sequence_length, units]`.\n",
    "        \"\"\"\n",
    "\n",
    "        # Check the shape of the input tensor.\n",
    "        shape_checker = utils.ShapeChecker()\n",
    "        shape_checker(x, 'batch s')\n",
    "\n",
    "        # Embed the input sequences.\n",
    "        x = self.embedding(x)\n",
    "\n",
    "        # Check the shape of the embedded input sequences.\n",
    "        shape_checker(x, 'batch s units')\n",
    "\n",
    "        # Encode the input sequences using the bidirectional LSTM layer.\n",
    "        x = self.rnn(x)\n",
    "\n",
    "        # Check the shape of the encoded input sequences.\n",
    "        shape_checker(x, 'batch s units')\n",
    "\n",
    "        return x\n",
    "\n",
    "    def convert_input(self, texts):\n",
    "        \"\"\"Converts the input texts to a tensor of hidden states.\n",
    "\n",
    "        Args:\n",
    "            texts: A list of strings.\n",
    "\n",
    "        Returns:\n",
    "            A tensor of shape `[batch_size, max_sequence_length, units]`.\n",
    "        \"\"\"\n",
    "\n",
    "        # Convert the input texts to a tensor of text sequences.\n",
    "        texts = tf.convert_to_tensor(texts)\n",
    "\n",
    "        # If the input tensor is a scalar, convert it to a vector.\n",
    "        if len(texts.shape) == 0:\n",
    "            texts = tf.convert_to_tensor(texts)[tf.newaxis]\n",
    "\n",
    "        # Convert the text sequences to a tensor of hidden states.\n",
    "        context = self.text_processor(texts).to_tensor()\n",
    "        context = self(context)\n",
    "\n",
    "        return context"
   ]
  },
  {
   "cell_type": "markdown",
   "metadata": {},
   "source": [
    "<a id=\"4-2\"></a>\n",
    "## 4-2 - Attention"
   ]
  },
  {
   "cell_type": "markdown",
   "metadata": {},
   "source": [
    "The attention layer allows the decoder to access the information extracted by the encoder. It computes a `context vector` from the entire context sequence, and adds that to the decoder's output.\n",
    "<br>\n",
    "<br>\n",
    "The details of the attention layer is listed below:\n",
    "\n",
    "1. `tf.keras.layers.MultiHeadAttention`: A single head attention layer (num_heads = 1). The `key_dim` is set to 256. This means the attention head for the `query` and `key` will have dimension = 256.\n",
    "\n",
    "    The components of the attention layer is specified here:\n",
    "      * `Batch`: $b$. Number of records in each batch  \n",
    "      * `t`: $t$. Input sequence dimension\n",
    "      * `s`: $s$. Context sequence dimension\n",
    "      * `heads`: $h$. Number of attention heads\n",
    "      * `key_dim`: $key{\\_}dim$. Number of hidden units from the GRU layer\n",
    "\n",
    "    The matrices dimension for each attention component:\n",
    "      * `Query`:  ($b$,$t$,$key{\\_}dim$)\n",
    "      * `Value`:  ($b$,$s$,$key{\\_}dim$)\n",
    "      * `Attention Weights`: ($b$, $t$, $s$)\n",
    "\n",
    "2. `tf.keras.layers.Add`: Concatting the attention output along with the input `X`\n",
    "\n",
    "3. `tf.keras.layers.LayerNormalization`: Normalize the activations of the previous layer for each given example in a batch independently, not across examples."
   ]
  },
  {
   "cell_type": "code",
   "execution_count": 15,
   "metadata": {},
   "outputs": [],
   "source": [
    "class CrossAttention(tf.keras.layers.Layer):\n",
    "    \"\"\"A cross-attention layer that attends to a context sequence to compute a new representation of an input sequence.\n",
    "\n",
    "    Args:\n",
    "        units: The dimension of the hidden states.\n",
    "        kwargs: Additional arguments to pass to the MultiHeadAttention layer.\n",
    "    \"\"\"\n",
    "\n",
    "    def __init__(self, units, **kwargs):\n",
    "        super().__init__()\n",
    "\n",
    "        # Create a MultiHeadAttention layer.\n",
    "        self.mha = tf.keras.layers.MultiHeadAttention(key_dim=units, num_heads=1, **kwargs)\n",
    "\n",
    "        # Create a LayerNormalization layer.\n",
    "        self.layernorm = tf.keras.layers.LayerNormalization()\n",
    "\n",
    "        # Create an Add layer.\n",
    "        self.add = tf.keras.layers.Add()\n",
    "\n",
    "    def call(self, x, context):\n",
    "        \"\"\"Computes the cross-attention output.\n",
    "\n",
    "        Args:\n",
    "            x: A tensor of shape `[batch_size, input_sequence_length, units]`.\n",
    "            context: A tensor of shape `[batch_size, context_sequence_length, units]`.\n",
    "\n",
    "        Returns:\n",
    "            A tensor of shape `[batch_size, input_sequence_length, units]`.\n",
    "        \"\"\"\n",
    "\n",
    "        # Check the shape of the input tensors.\n",
    "        shape_checker = utils.ShapeChecker()\n",
    "        shape_checker(x, 'batch t units')\n",
    "        shape_checker(context, 'batch s units')\n",
    "\n",
    "        # Compute the attention output and attention scores.\n",
    "        attn_output, attn_scores = self.mha(\n",
    "            query=x,\n",
    "            value=context,\n",
    "            return_attention_scores=True)\n",
    "\n",
    "        # Check the shape of the attention output and attention scores.\n",
    "        shape_checker(x, 'batch t units')\n",
    "        shape_checker(attn_scores, 'batch heads t s')\n",
    "\n",
    "        # Reduce the attention scores to a single head.\n",
    "        attn_scores = tf.reduce_mean(attn_scores, axis=1)\n",
    "\n",
    "        # Check the shape of the reduced attention scores.\n",
    "        shape_checker(attn_scores, 'batch t s')\n",
    "\n",
    "        # Store the attention weights for later use.\n",
    "        self.last_attention_weights = attn_scores\n",
    "\n",
    "        # Compute the new representation of the input sequence.\n",
    "        x = self.add([x, attn_output])\n",
    "\n",
    "        # Normalize the new representation of the input sequence.\n",
    "        x = self.layernorm(x)\n",
    "\n",
    "        return x\n",
    "\n",
    "    def get_shape(self):\n",
    "        \"\"\"Prints the shape of the weights of the MultiHeadAttention layer.\"\"\"\n",
    "        weight_names = ['query', 'keys', 'values', 'proj']\n",
    "        for name, out in zip(weight_names,self.mha.get_weights()):\n",
    "            print(name, out.shape)"
   ]
  },
  {
   "cell_type": "markdown",
   "metadata": {},
   "source": [
    "<a id=\"4-3\"></a>\n",
    "## 4-3 - Decoder"
   ]
  },
  {
   "cell_type": "markdown",
   "metadata": {},
   "source": [
    "The goal of the decoder is to generate predictions for the next token at each location in the target sequence.\n",
    "<br>\n",
    "<br>\n",
    "\n",
    "\n",
    "The decoder takes two input:\n",
    "1. `Context`: The context vector from the encoder's output.\n",
    "2. `x`: The target sequence input.\n",
    "\n",
    "The details of the decoder is specified below:\n",
    "1. `tf.keras.layers.Embedding`: An embedding layer that converts token IDs to vectors. This layer is similar between both encoder and decoder.\n",
    "2. `tf.keras.layers.GRU`: A unidirectional GRU layer. During training, the hidden state in the decoder should only flow in one direction because the model predicts the next word at each location.\n",
    "3. `CrossAttention`: The RNN output will be the query for the attention layer.\n",
    "4. `tf.keras.layers.Dense`: A dense layer that produces the logit probability for each output token."
   ]
  },
  {
   "cell_type": "code",
   "execution_count": 16,
   "metadata": {},
   "outputs": [],
   "source": [
    "class GRU_Decoder(tf.keras.layers.Layer):\n",
    "    \"\"\"This class defines a decoder for a sequence-to-sequence model. It uses an LSTM to generate the next token in the sequence, and an attention mechanism to attend to the encoder output.\n",
    "\n",
    "    Args:\n",
    "        text_processor: A TextProcessor object.\n",
    "        units: The number of units in the LSTM layer.\n",
    "    \"\"\"\n",
    "\n",
    "    def __init__(self, text_processor, units):\n",
    "        super(GRU_Decoder, self).__init__()\n",
    "        self.text_processor = text_processor\n",
    "        self.vocab_size = text_processor.vocabulary_size()\n",
    "        self.word_to_id = tf.keras.layers.StringLookup(\n",
    "            vocabulary=text_processor.get_vocabulary(),\n",
    "            mask_token='', oov_token='[UNK]')\n",
    "        self.id_to_word = tf.keras.layers.StringLookup(\n",
    "            vocabulary=text_processor.get_vocabulary(),\n",
    "            mask_token='', oov_token='[UNK]',\n",
    "            invert=True)\n",
    "        self.start_token = self.word_to_id('[START]')\n",
    "        self.end_token = self.word_to_id('[END]')\n",
    "\n",
    "        self.units = units\n",
    "\n",
    "        self.embedding = tf.keras.layers.Embedding(self.vocab_size, units, mask_zero=True)\n",
    "        # The embedding layer converts the input tokens into dense vectors.\n",
    "\n",
    "        self.rnn = tf.keras.layers.GRU(units, return_sequences=True, return_state=True, recurrent_initializer='glorot_uniform')\n",
    "        # The GRU layer generates the next token in the sequence, based on the previous tokens and the encoder output.\n",
    "\n",
    "        self.attention = CrossAttention(units)\n",
    "        # The attention layer attends to the encoder output, and uses the attended information to generate the next token.\n",
    "\n",
    "        self.output_layer = tf.keras.layers.Dense(self.vocab_size, activation = 'sigmoid')\n",
    "        # The output layer converts the dense vectors generated by the GRU layer into probabilities over the next token.\n",
    "\n",
    "    def call(self,\n",
    "            context, x,\n",
    "            state=None,\n",
    "            return_state=False):  \n",
    "        \"\"\"\n",
    "            Decodes a sequence of tokens based on the context.\n",
    "\n",
    "            Args:\n",
    "              context: A tensor of shape (batch_size, encoder_seq_len, encoder_units).\n",
    "              x: A tensor of shape (batch_size, target_seq_len).\n",
    "              state: A tuple of tensors, (h_state, c_state), of shape (batch_size, units).\n",
    "              return_state: Whether to return the state of the decoder.\n",
    "\n",
    "            Returns:\n",
    "              A tensor of shape (batch_size, target_seq_len, target_vocab_size) containing the logits for the next token in the sequence.\n",
    "            \"\"\"\n",
    "\n",
    "        shape_checker = utils.ShapeChecker()\n",
    "        shape_checker(x, 'batch t')\n",
    "        shape_checker(context, 'batch s units')\n",
    "\n",
    "        # 1. Lookup the embeddings\n",
    "        x = self.embedding(x)\n",
    "        shape_checker(x, 'batch t units')\n",
    "\n",
    "        # 2. Process the target sequence.\n",
    "        x, state = self.rnn(x, initial_state=state)\n",
    "        shape_checker(x, 'batch t units')\n",
    "\n",
    "        # 3. Use the RNN output as the query for the attention over the context.\n",
    "        x = self.attention(x, context)\n",
    "        self.last_attention_weights = self.attention.last_attention_weights\n",
    "        shape_checker(x, 'batch t units')\n",
    "        shape_checker(self.last_attention_weights, 'batch t s')\n",
    "\n",
    "        # Step 4. Generate logit predictions for the next token.\n",
    "        logits = self.output_layer(x)\n",
    "        shape_checker(logits, 'batch t target_vocab_size')\n",
    "\n",
    "        if return_state:\n",
    "            return logits, state\n",
    "        else:\n",
    "            return logits\n",
    "\n",
    "    def get_initial_state(self, context):\n",
    "        batch_size = tf.shape(context)[0]\n",
    "        start_tokens = tf.fill([batch_size, 1], self.start_token)\n",
    "        done = tf.zeros([batch_size, 1], dtype=tf.bool)\n",
    "        embedded = self.embedding(start_tokens)\n",
    "        return start_tokens, done, self.rnn.get_initial_state(embedded)[0]\n",
    "\n",
    "    def tokens_to_text(self, tokens):\n",
    "        words = self.id_to_word(tokens)\n",
    "        result = tf.strings.reduce_join(words, axis=-1, separator=' ')\n",
    "        result = tf.strings.regex_replace(result, '^ *\\[START\\] *', '')\n",
    "        result = tf.strings.regex_replace(result, ' *\\[END\\] *$', '')\n",
    "        return result\n",
    "\n",
    "    def get_next_token(self, context, next_token, done, state, random = False):\n",
    "        logits, state = self(\n",
    "            context, next_token,\n",
    "            state = state,\n",
    "            return_state=True) \n",
    "\n",
    "        if not random:\n",
    "            next_token = tf.argmax(logits, axis=-1)\n",
    "        else:\n",
    "            logits = logits[:, -1, :]/1\n",
    "            next_token = tf.random.categorical(logits, num_samples=1)\n",
    "\n",
    "        # If a sequence produces an `end_token`, set it `done`\n",
    "        done = done | (next_token == self.end_token)\n",
    "        # Once a sequence is done it only produces 0-padding.\n",
    "        next_token = tf.where(done, tf.constant(0, dtype=tf.int64), next_token)\n",
    "\n",
    "        return next_token, done, state, logits"
   ]
  },
  {
   "cell_type": "markdown",
   "metadata": {},
   "source": [
    "<a id=\"4-4\"></a>\n",
    "## 4-4 - Shape Check"
   ]
  },
  {
   "cell_type": "markdown",
   "metadata": {},
   "source": [
    "In the Deep Learning Specialization course, I learned that it's important to check the matrix shape at every step of the network to prevent weird issues and identify problems early. In this section, we'll pass through one single training datapoint through the network and check the matrix shape for each steps in the network."
   ]
  },
  {
   "cell_type": "markdown",
   "metadata": {},
   "source": [
    "1. `train_ds`: This is a `tensorflow.python.data.ops.dataset_ops.ParallelMapDataset` dataset with the format of `((context, target_in), target_out)`. `target_out` and `target_in` are target vectors but shifted by one time step"
   ]
  },
  {
   "cell_type": "code",
   "execution_count": 18,
   "metadata": {},
   "outputs": [
    {
     "name": "stdout",
     "output_type": "stream",
     "text": [
      "Context Vector:\n",
      "tf.Tensor([b'[START]' b'202' b'10' b'st' b'kings' b'ny' b'[END]' b'' b''], shape=(9,), dtype=string)\n",
      "\n",
      "\n",
      "Target-In Vector:\n",
      "tf.Tensor([b'[START]' b'202' b'10' b'st' b'brooklyn' b'kings' b'ny' b'11211' b'' b''], shape=(10,), dtype=string)\n",
      "\n",
      "\n",
      "Target-Out Vector:\n",
      "tf.Tensor([b'202' b'10' b'st' b'brooklyn' b'kings' b'ny' b'11211' b'[END]' b'' b''], shape=(10,), dtype=string)\n"
     ]
    }
   ],
   "source": [
    "# Check one training sample\n",
    "context_layer = tf.keras.layers.StringLookup(vocabulary=context_text_processor.get_vocabulary(),mask_token='', oov_token='[UNK]',invert=True)\n",
    "target_layer = tf.keras.layers.StringLookup(vocabulary=target_text_processor.get_vocabulary(),mask_token='', oov_token='[UNK]',invert=True)\n",
    "\n",
    "for (ex_context_tok, ex_tar_in), ex_tar_out in train_ds.take(1):\n",
    "  print('Context Vector:')\n",
    "  print(context_layer(ex_context_tok[0, :10]))\n",
    "  print('\\n')\n",
    "  print('Target-In Vector:')\n",
    "  print(target_layer(ex_tar_in[0, :10]))\n",
    "  print('\\n')\n",
    "  print('Target-Out Vector:')\n",
    "  print(target_layer(ex_tar_out[0, :10]))"
   ]
  },
  {
   "cell_type": "markdown",
   "metadata": {},
   "source": [
    "2. `Encoder`: The encoder has an input dimension of ($b$, $s$), and an output dimension of ($b$, $s$, $dim$)."
   ]
  },
  {
   "cell_type": "code",
   "execution_count": 19,
   "metadata": {},
   "outputs": [
    {
     "name": "stdout",
     "output_type": "stream",
     "text": [
      "Context tokens, shape (batch, s): (64, 9)\n",
      "Encoder output, shape (batch, s, units): (64, 9, 256)\n"
     ]
    }
   ],
   "source": [
    "encoder = GRU_Encoder(context_text_processor, UNITS)\n",
    "ex_context = encoder(ex_context_tok)\n",
    "\n",
    "print(f'Context tokens, shape (batch, s): {ex_context_tok.shape}')\n",
    "print(f'Encoder output, shape (batch, s, units): {ex_context.shape}')"
   ]
  },
  {
   "cell_type": "markdown",
   "metadata": {},
   "source": [
    "3. `Attention Layer`: The context sequence from the encoder has a dimension of ($b$, $s$, $dim$). The final output of the attention layer has the same dimension as the target sequence ($b$, $t$, $dim$)."
   ]
  },
  {
   "cell_type": "code",
   "execution_count": 20,
   "metadata": {},
   "outputs": [
    {
     "name": "stdout",
     "output_type": "stream",
     "text": [
      "Context sequence, shape (batch, s, units): (64, 9, 256)\n",
      "Target sequence, shape (batch, t, units): (64, 11, 256)\n",
      "Attention result, shape (batch, t, units): (64, 11, 256)\n",
      "Attention weights, shape (batch, t, s):    (64, 11, 9)\n"
     ]
    }
   ],
   "source": [
    "attention_layer = CrossAttention(UNITS)\n",
    "\n",
    "# Attend to the encoded tokens\n",
    "embed = tf.keras.layers.Embedding(target_text_processor.vocabulary_size(), output_dim=UNITS, mask_zero=True)\n",
    "ex_tar_embed = embed(ex_tar_in)\n",
    "\n",
    "result = attention_layer(ex_tar_embed, ex_context)\n",
    "\n",
    "print(f'Context sequence, shape (batch, s, units): {ex_context.shape}')\n",
    "print(f'Target sequence, shape (batch, t, units): {ex_tar_embed.shape}')\n",
    "print(f'Attention result, shape (batch, t, units): {result.shape}')\n",
    "print(f'Attention weights, shape (batch, t, s):    {attention_layer.last_attention_weights.shape}')"
   ]
  },
  {
   "cell_type": "markdown",
   "metadata": {},
   "source": [
    "4. `Decoder`: The output of the decoder will have the dimension of ($b$, $t$, $vocab_size$). Given the context and target tokens, for each target token it predicts the next target token."
   ]
  },
  {
   "cell_type": "code",
   "execution_count": 21,
   "metadata": {},
   "outputs": [
    {
     "name": "stdout",
     "output_type": "stream",
     "text": [
      "encoder output shape: (batch, s, units) (64, 9, 256)\n",
      "input target tokens shape: (batch, t) (64, 11)\n",
      "logits shape shape: (batch, target_vocabulary_size) (64, 11, 5000)\n"
     ]
    }
   ],
   "source": [
    "decoder = GRU_Decoder(target_text_processor, UNITS)\n",
    "\n",
    "logits = decoder(ex_context, ex_tar_in)\n",
    "\n",
    "print(f'encoder output shape: (batch, s, units) {ex_context.shape}')\n",
    "print(f'input target tokens shape: (batch, t) {ex_tar_in.shape}')\n",
    "print(f'logits shape shape: (batch, target_vocabulary_size) {logits.shape}')"
   ]
  },
  {
   "cell_type": "markdown",
   "metadata": {},
   "source": [
    "<a id=\"5\"></a>\n",
    "# 5 - Training"
   ]
  },
  {
   "cell_type": "code",
   "execution_count": 32,
   "metadata": {},
   "outputs": [
    {
     "name": "stdout",
     "output_type": "stream",
     "text": [
      "Model: \"addressor_2\"\n",
      "_________________________________________________________________\n",
      " Layer (type)                Output Shape              Param #   \n",
      "=================================================================\n",
      " gru__encoder_3 (GRU_Encoder  multiple                 2069504   \n",
      " )                                                               \n",
      "                                                                 \n",
      " gru__decoder_3 (GRU_Decoder  multiple                 3223432   \n",
      " )                                                               \n",
      "                                                                 \n",
      "=================================================================\n",
      "Total params: 5,292,936\n",
      "Trainable params: 5,292,936\n",
      "Non-trainable params: 0\n",
      "_________________________________________________________________\n",
      "None\n"
     ]
    }
   ],
   "source": [
    "from encoder_decoder import Addressor, masked_loss, masked_acc\n",
    "model = Addressor(UNITS, context_text_processor, target_text_processor)\n",
    "\n",
    "logits = model((ex_context_tok, ex_tar_in))\n",
    "\n",
    "model.compile(optimizer='adam',\n",
    "                  loss=masked_loss, \n",
    "                  metrics=[masked_acc, masked_loss])\n",
    "\n",
    "print(model.summary())"
   ]
  },
  {
   "cell_type": "code",
   "execution_count": 33,
   "metadata": {},
   "outputs": [
    {
     "name": "stdout",
     "output_type": "stream",
     "text": [
      "Epoch 1/10\n"
     ]
    },
    {
     "name": "stderr",
     "output_type": "stream",
     "text": [
      "c:\\Users\\gkchen\\Anaconda3\\lib\\site-packages\\keras\\backend.py:5582: UserWarning: \"`sparse_categorical_crossentropy` received `from_logits=True`, but the `output` argument was produced by a Softmax activation and thus does not represent logits. Was this intended?\n",
      "  output, from_logits = _get_logits(\n"
     ]
    },
    {
     "name": "stdout",
     "output_type": "stream",
     "text": [
      "100/100 [==============================] - 57s 406ms/step - loss: 2.9795 - masked_acc: 0.4852 - masked_loss: 3.5678 - val_loss: 1.9545 - val_masked_acc: 0.6102 - val_masked_loss: 2.3521\n",
      "Epoch 2/10\n",
      "100/100 [==============================] - 36s 361ms/step - loss: 1.6307 - masked_acc: 0.6676 - masked_loss: 1.9697 - val_loss: 1.2413 - val_masked_acc: 0.7531 - val_masked_loss: 1.4736\n",
      "Epoch 3/10\n",
      "100/100 [==============================] - 33s 326ms/step - loss: 0.9540 - masked_acc: 0.8104 - masked_loss: 1.1443 - val_loss: 0.7614 - val_masked_acc: 0.8500 - val_masked_loss: 0.9137\n",
      "Epoch 4/10\n",
      "100/100 [==============================] - 33s 333ms/step - loss: 0.6352 - masked_acc: 0.8719 - masked_loss: 0.7639 - val_loss: 0.5347 - val_masked_acc: 0.8862 - val_masked_loss: 0.6513\n",
      "Epoch 5/10\n",
      "100/100 [==============================] - 32s 324ms/step - loss: 0.4405 - masked_acc: 0.9082 - masked_loss: 0.5293 - val_loss: 0.3759 - val_masked_acc: 0.9191 - val_masked_loss: 0.4481\n",
      "Epoch 6/10\n",
      "100/100 [==============================] - 34s 342ms/step - loss: 0.3242 - masked_acc: 0.9272 - masked_loss: 0.3947 - val_loss: 0.2966 - val_masked_acc: 0.9336 - val_masked_loss: 0.3613\n",
      "Epoch 7/10\n",
      "100/100 [==============================] - 33s 326ms/step - loss: 0.2500 - masked_acc: 0.9399 - masked_loss: 0.3045 - val_loss: 0.2246 - val_masked_acc: 0.9452 - val_masked_loss: 0.2711\n",
      "Epoch 8/10\n",
      "100/100 [==============================] - 33s 332ms/step - loss: 0.2032 - masked_acc: 0.9477 - masked_loss: 0.2447 - val_loss: 0.1704 - val_masked_acc: 0.9536 - val_masked_loss: 0.2090\n",
      "Epoch 9/10\n",
      "100/100 [==============================] - 31s 312ms/step - loss: 0.1635 - masked_acc: 0.9546 - masked_loss: 0.1989 - val_loss: 0.1680 - val_masked_acc: 0.9528 - val_masked_loss: 0.1985\n",
      "Epoch 10/10\n",
      "100/100 [==============================] - 34s 339ms/step - loss: 0.1504 - masked_acc: 0.9564 - masked_loss: 0.1813 - val_loss: 0.1310 - val_masked_acc: 0.9610 - val_masked_loss: 0.1554\n"
     ]
    }
   ],
   "source": [
    "history = model.fit(\n",
    "    train_ds.repeat(), \n",
    "    epochs=10,\n",
    "    steps_per_epoch = 100,\n",
    "    validation_data=val_ds,\n",
    "    validation_steps = 20,\n",
    "    callbacks=[\n",
    "        tf.keras.callbacks.EarlyStopping(patience=3)])"
   ]
  },
  {
   "cell_type": "code",
   "execution_count": 35,
   "metadata": {},
   "outputs": [
    {
     "data": {
      "text/plain": [
       "<matplotlib.legend.Legend at 0x2b83a3d5640>"
      ]
     },
     "execution_count": 35,
     "metadata": {},
     "output_type": "execute_result"
    },
    {
     "data": {
      "image/png": "[encoded data removed]",
      "text/plain": [
       "<Figure size 1200x400 with 2 Axes>"
      ]
     },
     "metadata": {},
     "output_type": "display_data"
    }
   ],
   "source": [
    "import matplotlib\n",
    "import matplotlib.pyplot as plt\n",
    "import matplotlib.ticker as ticker\n",
    "\n",
    "matplotlib.rc_file_defaults()\n",
    "\n",
    "fig, (ax1, ax2) = plt.subplots(1, 2, figsize=(12,4))\n",
    "\n",
    "ax1.plot(history.history['loss'], label='loss')\n",
    "ax1.plot(history.history['val_loss'], label='val_loss')\n",
    "ax1.set_ylim([0, max(plt.ylim())])\n",
    "ax1.set_xlabel('Epoch #')\n",
    "ax1.set_ylabel('CE/token')\n",
    "ax1.legend()\n",
    "\n",
    "ax2.plot(history.history['masked_acc'], label='accuracy')\n",
    "ax2.plot(history.history['val_masked_acc'], label='val_accuracy')\n",
    "ax2.set_ylim([0, max(plt.ylim())])\n",
    "ax2.set_xlabel('Epoch #')\n",
    "ax2.set_ylabel('CE/token')\n",
    "ax2.legend()"
   ]
  },
  {
   "cell_type": "markdown",
   "metadata": {},
   "source": [
    "<a id=\"6\"></a>\n",
    "# 6 - Inference"
   ]
  },
  {
   "cell_type": "markdown",
   "metadata": {},
   "source": [
    "The Address-Auto-Complete bot `model` training is completed with 96% accuracy on the validation dataframe with 10 epochs. In this section, we run model inferences on some real-world addresses to examine the model output and its performance."
   ]
  },
  {
   "cell_type": "code",
   "execution_count": 78,
   "metadata": {},
   "outputs": [
    {
     "name": "stdout",
     "output_type": "stream",
     "text": [
      "###############################################\n",
      "Case 1\n",
      "\n",
      "Context str: b'39 109 Ave Jamaica 11435'\n",
      "\n",
      "Inference result from Address-Auto-Complete bot: 39 109 ave jamaica queens ny 11435 \n",
      "\n",
      "Original raw str: b'39 109 Ave Jamaica Queens NY 11435'\n",
      "###############################################\n",
      "###############################################\n",
      "Case 2\n",
      "\n",
      "Context str: b'520 37 St Brooklyn NY'\n",
      "\n",
      "Inference result from Address-Auto-Complete bot: 520 37 st brooklyn kings ny 11232 \n",
      "\n",
      "Original raw str: b'520 37 St Brooklyn Kings NY 11203'\n",
      "###############################################\n",
      "###############################################\n",
      "Case 3\n",
      "\n",
      "Context str: b'550 Leonard St Brooklyn Kings'\n",
      "\n",
      "Inference result from Address-Auto-Complete bot: 550 leonard st brooklyn kings ny 11222 \n",
      "\n",
      "Original raw str: b'550 Leonard St Brooklyn Kings NY 11222'\n",
      "###############################################\n",
      "###############################################\n",
      "Case 4\n",
      "\n",
      "Context str: b'518 3 Ave New York 10016'\n",
      "\n",
      "Inference result from Address-Auto-Complete bot: 518 3 ave new york new york ny 10016 \n",
      "\n",
      "Original raw str: b'518 3 Ave New York New York NY 10016'\n",
      "###############################################\n",
      "###############################################\n",
      "Case 5\n",
      "\n",
      "Context str: b'2 79 New York New York 10075'\n",
      "\n",
      "Inference result from Address-Auto-Complete bot: 2 79 st new york new york ny 10075 \n",
      "\n",
      "Original raw str: b'2 79 St New York New York NY 10075'\n",
      "###############################################\n"
     ]
    }
   ],
   "source": [
    "# Generate masked addresses from the validation dataset\n",
    "for example_context_strings, example_target_strings in val_raw.take(1):\n",
    "    context_l = example_context_strings[0:5].numpy().tolist()\n",
    "    raw_l = example_target_strings[0:5].numpy().tolist()\n",
    "\n",
    "# Perform Inference. All cases seem to be correct\n",
    "for i in range(5):\n",
    "    print('###############################################')\n",
    "    print(f'Case {i+1}\\n')\n",
    "    print(f'Context str: {context_l[i]}\\n')\n",
    "\n",
    "    context_raw = context_l[i]\n",
    "    result = model.Addressor_fix([context_raw]) \n",
    "\n",
    "    print(f'Inference result from Address-Auto-Complete bot: {result.numpy()[0].decode()}\\n')\n",
    "\n",
    "    print(f'Original raw str: {raw_l[i]}')\n",
    "    print('###############################################')\n",
    "\n"
   ]
  },
  {
   "cell_type": "markdown",
   "metadata": {},
   "source": [
    "<a id=\"6-1\"></a>\n",
    "## 6-1 - Deep Dive\n",
    "\n",
    "We asked the Address Auto Complete bot to perform the function of both *Detect Address Error* and *Auto Complete Address*. \n",
    "\n",
    "Let's use the address `49 Clinton St New York NY 10002` as an example for our demonstration. Why this address? Because I liked this LES restaurant [Yopparai](https://maps.app.goo.gl/NqEAyHaA3Ay3qE2q9) - I just went there for dinner last weekend with friends. 100% recommended!"
   ]
  },
  {
   "cell_type": "code",
   "execution_count": 67,
   "metadata": {},
   "outputs": [
    {
     "name": "stdout",
     "output_type": "stream",
     "text": [
      "49 clinton st new york new york ny 10002 \n",
      "\n",
      " Success!\n"
     ]
    }
   ],
   "source": [
    "#Auto Complete Address task 1: Keep street name and City name, and check if the bot can complete the rest\n",
    "context_raw = '49 Clinton St New York'\n",
    "result = model.Addressor_fix([context_raw]) \n",
    "print(result.numpy()[0].decode())\n",
    "\n",
    "print('\\n Success!')"
   ]
  },
  {
   "cell_type": "code",
   "execution_count": 68,
   "metadata": {},
   "outputs": [
    {
     "name": "stdout",
     "output_type": "stream",
     "text": [
      "49 clinton st new york new york ny 10002 \n",
      "\n",
      " Success!\n"
     ]
    }
   ],
   "source": [
    "#Auto Complete Address task 2: Keep street name and Zip code, and check if the bot can complete the rest\n",
    "context_raw = '49 Clinton St 10002'\n",
    "result = model.Addressor_fix([context_raw]) \n",
    "print(result.numpy()[0].decode())\n",
    "\n",
    "print('\\n Success!')"
   ]
  },
  {
   "cell_type": "code",
   "execution_count": 69,
   "metadata": {},
   "outputs": [
    {
     "name": "stdout",
     "output_type": "stream",
     "text": [
      "49 clinton st new york new york ny 10002 \n",
      "\n",
      " Success!\n"
     ]
    }
   ],
   "source": [
    "#Detect Address Error task 1: What happens if we mistype Los Angeles instead of New York\n",
    "context_raw = '49 clinton st los angeles new york ny 10002 '\n",
    "result = model.Addressor_fix([context_raw]) \n",
    "print(result.numpy()[0].decode())\n",
    "\n",
    "print('\\n Success!')"
   ]
  },
  {
   "cell_type": "code",
   "execution_count": 71,
   "metadata": {},
   "outputs": [
    {
     "name": "stdout",
     "output_type": "stream",
     "text": [
      "49 [UNK] st new york new york ny 10002 \n",
      "\n",
      " Failed\n",
      " This task failed because the word \"Hiliary\" is most likely not in the text corpus, therefore we are not able tokenized it and the encoder shows it as UNKNOWN\n"
     ]
    }
   ],
   "source": [
    "#Detect Address Error task 2: What happends if the street name was Hiliary instead of Clinton?\n",
    "context_raw = '49 hiliary st new york new york ny 10002 '\n",
    "result = model.Addressor_fix([context_raw]) \n",
    "print(result.numpy()[0].decode())\n",
    "\n",
    "print('\\n Failed\\n This task failed because the word \"Hiliary\" is most likely not in the text corpus, therefore we are not able tokenized it and the encoder shows it as UNKNOWN')"
   ]
  },
  {
   "cell_type": "markdown",
   "metadata": {},
   "source": []
  }
 ],
 "metadata": {
  "kernelspec": {
   "display_name": "base",
   "language": "python",
   "name": "python3"
  },
  "language_info": {
   "codemirror_mode": {
    "name": "ipython",
    "version": 3
   },
   "file_extension": ".py",
   "mimetype": "text/x-python",
   "name": "python",
   "nbconvert_exporter": "python",
   "pygments_lexer": "ipython3",
   "version": "3.9.7"
  },
  "orig_nbformat": 4
 },
 "nbformat": 4,
 "nbformat_minor": 2
}
